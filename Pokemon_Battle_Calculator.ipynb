{
 "cells": [
  {
   "cell_type": "markdown",
   "metadata": {},
   "source": [
    "# Preliminaries"
   ]
  },
  {
   "cell_type": "code",
   "execution_count": 1,
   "metadata": {},
   "outputs": [],
   "source": [
    "import pandas as pd  #importing all the important packages\n",
    "import numpy as np\n",
    "import matplotlib.pyplot as plt #currently not used\n",
    "import seaborn as sns #currently not used\n",
    "import pickle"
   ]
  },
  {
   "cell_type": "markdown",
   "metadata": {},
   "source": [
    "Import the table containing nationaldex pokemon data up until generation 8."
   ]
  },
  {
   "cell_type": "code",
   "execution_count": 2,
   "metadata": {},
   "outputs": [],
   "source": [
    "pickle_in = open('pokemon.pickle','rb')\n",
    "pokemon = pickle.load(pickle_in)\n",
    "pokemon.columns = pokemon.columns.str.upper().str.replace('_', '') \n",
    "pokemon['TYPE2'] = pokemon['TYPE2'].replace(to_replace=[None], value=np.nan, inplace=True)\n",
    "pokemon['TYPE2'].fillna(pokemon['TYPE1'], inplace=True)\n",
    "pokemon = pokemon.set_index('NAME')\n",
    "pokemon=pokemon.drop(['ID'],axis=1)"
   ]
  },
  {
   "cell_type": "markdown",
   "metadata": {},
   "source": [
    "Import the table containing all moves data up until generation 8."
   ]
  },
  {
   "cell_type": "code",
   "execution_count": 3,
   "metadata": {},
   "outputs": [
    {
     "data": {
      "text/html": [
       "<div>\n",
       "<style scoped>\n",
       "    .dataframe tbody tr th:only-of-type {\n",
       "        vertical-align: middle;\n",
       "    }\n",
       "\n",
       "    .dataframe tbody tr th {\n",
       "        vertical-align: top;\n",
       "    }\n",
       "\n",
       "    .dataframe thead th {\n",
       "        text-align: right;\n",
       "    }\n",
       "</style>\n",
       "<table border=\"1\" class=\"dataframe\">\n",
       "  <thead>\n",
       "    <tr style=\"text-align: right;\">\n",
       "      <th></th>\n",
       "      <th>TYPE</th>\n",
       "      <th>CATEGORY</th>\n",
       "      <th>PP</th>\n",
       "      <th>POWER</th>\n",
       "      <th>ACCURACY</th>\n",
       "      <th>FLAVOUR</th>\n",
       "    </tr>\n",
       "    <tr>\n",
       "      <th>MOVE</th>\n",
       "      <th></th>\n",
       "      <th></th>\n",
       "      <th></th>\n",
       "      <th></th>\n",
       "      <th></th>\n",
       "      <th></th>\n",
       "    </tr>\n",
       "  </thead>\n",
       "  <tbody>\n",
       "    <tr>\n",
       "      <th>Aerial Ace</th>\n",
       "      <td>flying</td>\n",
       "      <td>physical</td>\n",
       "      <td>20</td>\n",
       "      <td>60</td>\n",
       "      <td>101</td>\n",
       "      <td>The user confounds the foe with speed, then sl...</td>\n",
       "    </tr>\n",
       "    <tr>\n",
       "      <th>Aqua Jet</th>\n",
       "      <td>water</td>\n",
       "      <td>physical</td>\n",
       "      <td>20</td>\n",
       "      <td>40</td>\n",
       "      <td>100</td>\n",
       "      <td>The user lunges at the foe at a speed that mak...</td>\n",
       "    </tr>\n",
       "    <tr>\n",
       "      <th>Aqua Tail</th>\n",
       "      <td>water</td>\n",
       "      <td>physical</td>\n",
       "      <td>10</td>\n",
       "      <td>90</td>\n",
       "      <td>90</td>\n",
       "      <td>The user attacks by swinging its tail as if it...</td>\n",
       "    </tr>\n",
       "    <tr>\n",
       "      <th>Arm Thrust</th>\n",
       "      <td>fighting</td>\n",
       "      <td>physical</td>\n",
       "      <td>20</td>\n",
       "      <td>15</td>\n",
       "      <td>100</td>\n",
       "      <td>The user looses a flurry of open-palmed arm th...</td>\n",
       "    </tr>\n",
       "    <tr>\n",
       "      <th>Assurance</th>\n",
       "      <td>dark</td>\n",
       "      <td>physical</td>\n",
       "      <td>10</td>\n",
       "      <td>50</td>\n",
       "      <td>100</td>\n",
       "      <td>If the foe has already taken some damage in th...</td>\n",
       "    </tr>\n",
       "    <tr>\n",
       "      <th>...</th>\n",
       "      <td>...</td>\n",
       "      <td>...</td>\n",
       "      <td>...</td>\n",
       "      <td>...</td>\n",
       "      <td>...</td>\n",
       "      <td>...</td>\n",
       "    </tr>\n",
       "    <tr>\n",
       "      <th>Will-o-wisp</th>\n",
       "      <td>fire</td>\n",
       "      <td>status</td>\n",
       "      <td>15</td>\n",
       "      <td>--</td>\n",
       "      <td>75</td>\n",
       "      <td>The user shoots a sinister, bluish white flame...</td>\n",
       "    </tr>\n",
       "    <tr>\n",
       "      <th>Wish</th>\n",
       "      <td>normal</td>\n",
       "      <td>status</td>\n",
       "      <td>10</td>\n",
       "      <td>--</td>\n",
       "      <td>101</td>\n",
       "      <td>A self-healing move. The user restores its own...</td>\n",
       "    </tr>\n",
       "    <tr>\n",
       "      <th>Withdraw</th>\n",
       "      <td>water</td>\n",
       "      <td>status</td>\n",
       "      <td>40</td>\n",
       "      <td>--</td>\n",
       "      <td>101</td>\n",
       "      <td>The user withdraws its body into its hard shel...</td>\n",
       "    </tr>\n",
       "    <tr>\n",
       "      <th>Worry Seed</th>\n",
       "      <td>grass</td>\n",
       "      <td>status</td>\n",
       "      <td>10</td>\n",
       "      <td>--</td>\n",
       "      <td>100</td>\n",
       "      <td>A seed that causes worry is planted on the foe...</td>\n",
       "    </tr>\n",
       "    <tr>\n",
       "      <th>Yawn</th>\n",
       "      <td>normal</td>\n",
       "      <td>status</td>\n",
       "      <td>10</td>\n",
       "      <td>--</td>\n",
       "      <td>101</td>\n",
       "      <td>The user lets loose a huge yawn that lulls the...</td>\n",
       "    </tr>\n",
       "  </tbody>\n",
       "</table>\n",
       "<p>467 rows × 6 columns</p>\n",
       "</div>"
      ],
      "text/plain": [
       "                 TYPE  CATEGORY  PP POWER  ACCURACY  \\\n",
       "MOVE                                                  \n",
       "Aerial Ace     flying  physical  20    60       101   \n",
       "Aqua Jet        water  physical  20    40       100   \n",
       "Aqua Tail       water  physical  10    90        90   \n",
       "Arm Thrust   fighting  physical  20    15       100   \n",
       "Assurance        dark  physical  10    50       100   \n",
       "...               ...       ...  ..   ...       ...   \n",
       "Will-o-wisp      fire    status  15    --        75   \n",
       "Wish           normal    status  10    --       101   \n",
       "Withdraw        water    status  40    --       101   \n",
       "Worry Seed      grass    status  10    --       100   \n",
       "Yawn           normal    status  10    --       101   \n",
       "\n",
       "                                                       FLAVOUR  \n",
       "MOVE                                                            \n",
       "Aerial Ace   The user confounds the foe with speed, then sl...  \n",
       "Aqua Jet     The user lunges at the foe at a speed that mak...  \n",
       "Aqua Tail    The user attacks by swinging its tail as if it...  \n",
       "Arm Thrust   The user looses a flurry of open-palmed arm th...  \n",
       "Assurance    If the foe has already taken some damage in th...  \n",
       "...                                                        ...  \n",
       "Will-o-wisp  The user shoots a sinister, bluish white flame...  \n",
       "Wish         A self-healing move. The user restores its own...  \n",
       "Withdraw     The user withdraws its body into its hard shel...  \n",
       "Worry Seed   A seed that causes worry is planted on the foe...  \n",
       "Yawn         The user lets loose a huge yawn that lulls the...  \n",
       "\n",
       "[467 rows x 6 columns]"
      ]
     },
     "execution_count": 3,
     "metadata": {},
     "output_type": "execute_result"
    }
   ],
   "source": [
    "pickle_in = open('moves.pickle','rb')\n",
    "moves = pickle.load(pickle_in)\n",
    "moves"
   ]
  },
  {
   "cell_type": "markdown",
   "metadata": {},
   "source": [
    "We can import functions from other .ipynb files using:"
   ]
  },
  {
   "cell_type": "code",
   "execution_count": 4,
   "metadata": {},
   "outputs": [],
   "source": [
    "from ipynb.fs.defs.Functions import type_weakness,dmg,base_stats_at_lvl,phys_spec_ratio,get_moves"
   ]
  },
  {
   "cell_type": "markdown",
   "metadata": {},
   "source": [
    "We take the example of two pokemon with no IVs,EVs, or natures attacking one another. The function takes in the two pokemon and the move being used as well as their levels. "
   ]
  },
  {
   "cell_type": "code",
   "execution_count": 33,
   "metadata": {},
   "outputs": [],
   "source": [
    "def battle(p1_name,p1_lvl,p2_name,p2_lvl,move,pokemon,moves,crit):\n",
    "    a_d = phys_spec_ratio(p1_name,p1_lvl,p2_name,p2_lvl,pokemon)\n",
    "    move = moves[moves.index == move]\n",
    "    if move.CATEGORY.values == 'physical':\n",
    "        ratio = a_d[0]\n",
    "    elif move.CATEGORY.values == 'special':\n",
    "        ratio = a_d[1]\n",
    "    else:\n",
    "        ratio = 0\n",
    "    p1 = pokemon[pokemon.index == p1_name]\n",
    "    p2 = pokemon[pokemon.index == p2_name]\n",
    "    STAB = (move.TYPE.values == p1.TYPE1.values) or (move.TYPE.values == p1.TYPE2.values)\n",
    "    other = 1\n",
    "    damage = dmg(ratio, p1_lvl, crit, move['POWER'].values.astype(str).astype(int), move['TYPE'].values,STAB,p2['TYPE1'].values,p2['TYPE2'].values,other)\n",
    "    p2_hp = base_stats_at_lvl(p2_name,p2_lvl,pokemon)[0]\n",
    "    return [str(int(damage[0]/p2_hp*100))+'%',str(int(damage[1]/p2_hp*100))+'%']"
   ]
  },
  {
   "cell_type": "code",
   "execution_count": 35,
   "metadata": {},
   "outputs": [
    {
     "data": {
      "text/plain": [
       "['54%', '64%']"
      ]
     },
     "execution_count": 35,
     "metadata": {},
     "output_type": "execute_result"
    }
   ],
   "source": [
    "battle('Charizard',30,'Venusaur',30,'Aerial Ace',pokemon,moves,True)"
   ]
  },
  {
   "cell_type": "code",
   "execution_count": null,
   "metadata": {},
   "outputs": [],
   "source": []
  }
 ],
 "metadata": {
  "kernelspec": {
   "display_name": "Python 3",
   "language": "python",
   "name": "python3"
  },
  "language_info": {
   "codemirror_mode": {
    "name": "ipython",
    "version": 3
   },
   "file_extension": ".py",
   "mimetype": "text/x-python",
   "name": "python",
   "nbconvert_exporter": "python",
   "pygments_lexer": "ipython3",
   "version": "3.8.3"
  }
 },
 "nbformat": 4,
 "nbformat_minor": 4
}
