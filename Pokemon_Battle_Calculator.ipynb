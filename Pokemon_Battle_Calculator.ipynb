{
 "cells": [
  {
   "cell_type": "markdown",
   "metadata": {},
   "source": [
    "# Preliminaries"
   ]
  },
  {
   "cell_type": "code",
   "execution_count": 3,
   "metadata": {},
   "outputs": [],
   "source": [
    "import pandas as pd  #importing all the important packages\n",
    "import numpy as np\n",
    "import matplotlib.pyplot as plt #currently not used\n",
    "import seaborn as sns #currently not used\n",
    "import pickle"
   ]
  },
  {
   "cell_type": "markdown",
   "metadata": {},
   "source": [
    "Import the table containing nationaldex pokemon data up until generation 8."
   ]
  },
  {
   "cell_type": "code",
   "execution_count": 4,
   "metadata": {},
   "outputs": [],
   "source": [
    "pickle_in = open('pokemon.pickle','rb')\n",
    "pokemon = pickle.load(pickle_in)\n",
    "pokemon.columns = pokemon.columns.str.upper().str.replace('_', '') \n",
    "pokemon['TYPE2'] = pokemon['TYPE2'].replace(to_replace=[None], value=np.nan, inplace=True)\n",
    "pokemon['TYPE2'].fillna(pokemon['TYPE1'], inplace=True)\n",
    "pokemon = pokemon.set_index('NAME')\n",
    "pokemon=pokemon.drop(['ID'],axis=1)"
   ]
  },
  {
   "cell_type": "markdown",
   "metadata": {},
   "source": [
    "Import the table containing all moves data up until generation 8."
   ]
  },
  {
   "cell_type": "code",
   "execution_count": 5,
   "metadata": {},
   "outputs": [],
   "source": [
    "pickle_in = open('moves.pickle','rb')\n",
    "moves = pickle.load(pickle_in)"
   ]
  },
  {
   "cell_type": "markdown",
   "metadata": {},
   "source": [
    "We can import functions from other .ipynb files using:"
   ]
  },
  {
   "cell_type": "code",
   "execution_count": 6,
   "metadata": {},
   "outputs": [],
   "source": [
    "from ipynb.fs.defs.Functions import type_weakness,dmg,base_stats_at_lvl,phys_spec_ratio,get_moves"
   ]
  }
 ],
 "metadata": {
  "kernelspec": {
   "display_name": "Python 3",
   "language": "python",
   "name": "python3"
  },
  "language_info": {
   "codemirror_mode": {
    "name": "ipython",
    "version": 3
   },
   "file_extension": ".py",
   "mimetype": "text/x-python",
   "name": "python",
   "nbconvert_exporter": "python",
   "pygments_lexer": "ipython3",
   "version": "3.8.3"
  }
 },
 "nbformat": 4,
 "nbformat_minor": 4
}
