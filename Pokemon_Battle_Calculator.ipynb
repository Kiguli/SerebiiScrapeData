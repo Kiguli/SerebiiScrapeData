{
 "cells": [
  {
   "cell_type": "markdown",
   "metadata": {},
   "source": [
    "# Preliminaries"
   ]
  },
  {
   "cell_type": "code",
   "execution_count": 1,
   "metadata": {},
   "outputs": [],
   "source": [
    "import pandas as pd  #importing all the important packages\n",
    "import numpy as np\n",
    "import matplotlib.pyplot as plt #currently not used\n",
    "import seaborn as sns #currently not used\n",
    "import pickle"
   ]
  },
  {
   "cell_type": "markdown",
   "metadata": {},
   "source": [
    "Import the table containing nationaldex pokemon data up until generation 8."
   ]
  },
  {
   "cell_type": "code",
   "execution_count": 2,
   "metadata": {},
   "outputs": [],
   "source": [
    "pickle_in = open('pokemon.pickle','rb')\n",
    "pokemon = pickle.load(pickle_in)\n",
    "pokemon.columns = pokemon.columns.str.upper().str.replace('_', '') \n",
    "pokemon['TYPE2'] = pokemon['TYPE2'].replace('None', value=np.nan)\n",
    "pokemon['TYPE2'].fillna(pokemon['TYPE1'], inplace=True)\n",
    "pokemon = pokemon.set_index('NAME')\n",
    "pokemon=pokemon.drop(['ID'],axis=1)"
   ]
  },
  {
   "cell_type": "markdown",
   "metadata": {},
   "source": [
    "Import the table containing all moves data up until generation 8."
   ]
  },
  {
   "cell_type": "code",
   "execution_count": 3,
   "metadata": {},
   "outputs": [
    {
     "data": {
      "text/html": [
       "<div>\n",
       "<style scoped>\n",
       "    .dataframe tbody tr th:only-of-type {\n",
       "        vertical-align: middle;\n",
       "    }\n",
       "\n",
       "    .dataframe tbody tr th {\n",
       "        vertical-align: top;\n",
       "    }\n",
       "\n",
       "    .dataframe thead th {\n",
       "        text-align: right;\n",
       "    }\n",
       "</style>\n",
       "<table border=\"1\" class=\"dataframe\">\n",
       "  <thead>\n",
       "    <tr style=\"text-align: right;\">\n",
       "      <th></th>\n",
       "      <th>TYPE</th>\n",
       "      <th>CATEGORY</th>\n",
       "      <th>PP</th>\n",
       "      <th>POWER</th>\n",
       "      <th>ACCURACY</th>\n",
       "      <th>FLAVOUR</th>\n",
       "    </tr>\n",
       "    <tr>\n",
       "      <th>MOVE</th>\n",
       "      <th></th>\n",
       "      <th></th>\n",
       "      <th></th>\n",
       "      <th></th>\n",
       "      <th></th>\n",
       "      <th></th>\n",
       "    </tr>\n",
       "  </thead>\n",
       "  <tbody>\n",
       "    <tr>\n",
       "      <th>Aerial Ace</th>\n",
       "      <td>flying</td>\n",
       "      <td>physical</td>\n",
       "      <td>20</td>\n",
       "      <td>60</td>\n",
       "      <td>101</td>\n",
       "      <td>The user confounds the foe with speed, then sl...</td>\n",
       "    </tr>\n",
       "    <tr>\n",
       "      <th>Aqua Jet</th>\n",
       "      <td>water</td>\n",
       "      <td>physical</td>\n",
       "      <td>20</td>\n",
       "      <td>40</td>\n",
       "      <td>100</td>\n",
       "      <td>The user lunges at the foe at a speed that mak...</td>\n",
       "    </tr>\n",
       "    <tr>\n",
       "      <th>Aqua Tail</th>\n",
       "      <td>water</td>\n",
       "      <td>physical</td>\n",
       "      <td>10</td>\n",
       "      <td>90</td>\n",
       "      <td>90</td>\n",
       "      <td>The user attacks by swinging its tail as if it...</td>\n",
       "    </tr>\n",
       "    <tr>\n",
       "      <th>Arm Thrust</th>\n",
       "      <td>fighting</td>\n",
       "      <td>physical</td>\n",
       "      <td>20</td>\n",
       "      <td>15</td>\n",
       "      <td>100</td>\n",
       "      <td>The user looses a flurry of open-palmed arm th...</td>\n",
       "    </tr>\n",
       "    <tr>\n",
       "      <th>Assurance</th>\n",
       "      <td>dark</td>\n",
       "      <td>physical</td>\n",
       "      <td>10</td>\n",
       "      <td>50</td>\n",
       "      <td>100</td>\n",
       "      <td>If the foe has already taken some damage in th...</td>\n",
       "    </tr>\n",
       "    <tr>\n",
       "      <th>...</th>\n",
       "      <td>...</td>\n",
       "      <td>...</td>\n",
       "      <td>...</td>\n",
       "      <td>...</td>\n",
       "      <td>...</td>\n",
       "      <td>...</td>\n",
       "    </tr>\n",
       "    <tr>\n",
       "      <th>Will-o-wisp</th>\n",
       "      <td>fire</td>\n",
       "      <td>status</td>\n",
       "      <td>15</td>\n",
       "      <td>--</td>\n",
       "      <td>75</td>\n",
       "      <td>The user shoots a sinister, bluish white flame...</td>\n",
       "    </tr>\n",
       "    <tr>\n",
       "      <th>Wish</th>\n",
       "      <td>normal</td>\n",
       "      <td>status</td>\n",
       "      <td>10</td>\n",
       "      <td>--</td>\n",
       "      <td>101</td>\n",
       "      <td>A self-healing move. The user restores its own...</td>\n",
       "    </tr>\n",
       "    <tr>\n",
       "      <th>Withdraw</th>\n",
       "      <td>water</td>\n",
       "      <td>status</td>\n",
       "      <td>40</td>\n",
       "      <td>--</td>\n",
       "      <td>101</td>\n",
       "      <td>The user withdraws its body into its hard shel...</td>\n",
       "    </tr>\n",
       "    <tr>\n",
       "      <th>Worry Seed</th>\n",
       "      <td>grass</td>\n",
       "      <td>status</td>\n",
       "      <td>10</td>\n",
       "      <td>--</td>\n",
       "      <td>100</td>\n",
       "      <td>A seed that causes worry is planted on the foe...</td>\n",
       "    </tr>\n",
       "    <tr>\n",
       "      <th>Yawn</th>\n",
       "      <td>normal</td>\n",
       "      <td>status</td>\n",
       "      <td>10</td>\n",
       "      <td>--</td>\n",
       "      <td>101</td>\n",
       "      <td>The user lets loose a huge yawn that lulls the...</td>\n",
       "    </tr>\n",
       "  </tbody>\n",
       "</table>\n",
       "<p>467 rows × 6 columns</p>\n",
       "</div>"
      ],
      "text/plain": [
       "                 TYPE  CATEGORY  PP POWER  ACCURACY  \\\n",
       "MOVE                                                  \n",
       "Aerial Ace     flying  physical  20    60       101   \n",
       "Aqua Jet        water  physical  20    40       100   \n",
       "Aqua Tail       water  physical  10    90        90   \n",
       "Arm Thrust   fighting  physical  20    15       100   \n",
       "Assurance        dark  physical  10    50       100   \n",
       "...               ...       ...  ..   ...       ...   \n",
       "Will-o-wisp      fire    status  15    --        75   \n",
       "Wish           normal    status  10    --       101   \n",
       "Withdraw        water    status  40    --       101   \n",
       "Worry Seed      grass    status  10    --       100   \n",
       "Yawn           normal    status  10    --       101   \n",
       "\n",
       "                                                       FLAVOUR  \n",
       "MOVE                                                            \n",
       "Aerial Ace   The user confounds the foe with speed, then sl...  \n",
       "Aqua Jet     The user lunges at the foe at a speed that mak...  \n",
       "Aqua Tail    The user attacks by swinging its tail as if it...  \n",
       "Arm Thrust   The user looses a flurry of open-palmed arm th...  \n",
       "Assurance    If the foe has already taken some damage in th...  \n",
       "...                                                        ...  \n",
       "Will-o-wisp  The user shoots a sinister, bluish white flame...  \n",
       "Wish         A self-healing move. The user restores its own...  \n",
       "Withdraw     The user withdraws its body into its hard shel...  \n",
       "Worry Seed   A seed that causes worry is planted on the foe...  \n",
       "Yawn         The user lets loose a huge yawn that lulls the...  \n",
       "\n",
       "[467 rows x 6 columns]"
      ]
     },
     "execution_count": 3,
     "metadata": {},
     "output_type": "execute_result"
    }
   ],
   "source": [
    "pickle_in = open('moves.pickle','rb')\n",
    "moves = pickle.load(pickle_in)\n",
    "moves"
   ]
  },
  {
   "cell_type": "markdown",
   "metadata": {},
   "source": [
    "We can import functions from other .ipynb files using:"
   ]
  },
  {
   "cell_type": "code",
   "execution_count": 4,
   "metadata": {},
   "outputs": [],
   "source": [
    "from ipynb.fs.defs.Functions import type_weakness,dmg,base_stats_at_lvl,phys_spec_ratio,get_moves"
   ]
  },
  {
   "cell_type": "markdown",
   "metadata": {},
   "source": [
    "We take the example of two pokemon with no IVs,EVs, or natures attacking one another. The function takes in the two pokemon and the move being used as well as their levels. "
   ]
  },
  {
   "cell_type": "code",
   "execution_count": 5,
   "metadata": {},
   "outputs": [],
   "source": [
    "def battle(p1_name,p1_lvl,p2_name,p2_lvl,move,pokemon,moves,crit):\n",
    "    a_d = phys_spec_ratio(p1_name,p1_lvl,p2_name,p2_lvl,pokemon)\n",
    "    move = moves[moves.index == move]\n",
    "    if move.CATEGORY.values == 'physical':\n",
    "        ratio = a_d[0]\n",
    "    elif move.CATEGORY.values == 'special':\n",
    "        ratio = a_d[1]\n",
    "    else:\n",
    "        ratio = 0\n",
    "    p1 = pokemon[pokemon.index == p1_name]\n",
    "    p2 = pokemon[pokemon.index == p2_name]\n",
    "    STAB = (move.TYPE.values == p1.TYPE1.values) or (move.TYPE.values == p1.TYPE2.values)\n",
    "    other = 1\n",
    "    damage = dmg(ratio, p1_lvl, crit, move['POWER'].values.astype(str).astype(int), move['TYPE'].values,STAB,p2['TYPE1'].values,p2['TYPE2'].values,other)\n",
    "    p2_hp = base_stats_at_lvl(p2_name,p2_lvl,pokemon)[0]\n",
    "    return [int(damage[0]/p2_hp*100),int(damage[1]/p2_hp*100)]"
   ]
  },
  {
   "cell_type": "code",
   "execution_count": 6,
   "metadata": {},
   "outputs": [
    {
     "data": {
      "text/plain": [
       "[54, 64]"
      ]
     },
     "execution_count": 6,
     "metadata": {},
     "output_type": "execute_result"
    }
   ],
   "source": [
    "battle('Charizard',30,'Venusaur',30,'Aerial Ace',pokemon,moves,True)"
   ]
  },
  {
   "cell_type": "markdown",
   "metadata": {},
   "source": [
    "We create a function to test the effectiveness of a pokemon using a move against all other pokemon to see the average damage done. This is run using the base stats at level 50 similar to a competitive pokemon battle."
   ]
  },
  {
   "cell_type": "code",
   "execution_count": 7,
   "metadata": {},
   "outputs": [],
   "source": [
    "from tqdm import tnrange, notebook\n",
    "def move_effectiveness(p_name,move,pokemon,moves):\n",
    "    dmg = [0, 0]\n",
    "    ko = [0, 0]\n",
    "    for index, row in pokemon.iterrows():\n",
    "        d = battle(p_name,50,index,50,move,pokemon,moves,False)\n",
    "        if d[0] > 100:\n",
    "            d[0] = 100\n",
    "            ko[0] = ko[0] + 1\n",
    "        if d[1] > 100:\n",
    "            d[1] = 100\n",
    "            ko[1] = ko[1] + 1\n",
    "        dmg = [dmg[0]+d[0],dmg[1]+d[1]]\n",
    "    dmg[0] = dmg[0]/len(pokemon)\n",
    "    dmg[1] = dmg[1]/len(pokemon)\n",
    "    return [move,round(dmg[0],1),round(dmg[1],1),ko[0],ko[1]]"
   ]
  },
  {
   "cell_type": "code",
   "execution_count": 8,
   "metadata": {},
   "outputs": [
    {
     "data": {
      "text/plain": [
       "['Slash', 27.5, 32.3, 7, 10]"
      ]
     },
     "execution_count": 8,
     "metadata": {},
     "output_type": "execute_result"
    }
   ],
   "source": [
    "move_effectiveness('Charizard','Slash',pokemon,get_moves('Charizard'.lower()))"
   ]
  },
  {
   "cell_type": "markdown",
   "metadata": {},
   "source": [
    "Using this new function move effectiveness in combination with the list of moves a pokemon knows we can create a dataframe of the pokemon's moves and their effectiveness against all pokemon."
   ]
  },
  {
   "cell_type": "code",
   "execution_count": 9,
   "metadata": {},
   "outputs": [],
   "source": [
    "def pokemon_effectiveness(p_name,pokemon):\n",
    "    name = []\n",
    "    kolb = []\n",
    "    koub = []\n",
    "    lb = []\n",
    "    ub = []\n",
    "    acc = []\n",
    "    typ = []\n",
    "    cat = []\n",
    "    pokemon_moves = get_moves(p_name.lower())\n",
    "    #pokemon_moves = pokemon_moves[pokemon_moves['CATEGORY'] == 'physical' or pokemon_moves['CATEGORY'] == 'special')]\n",
    "    from tqdm import tnrange, notebook\n",
    "    for index, row in notebook.tqdm(pokemon_moves.iterrows(),desc='main loop',total=len(pokemon_moves)):\n",
    "        try:\n",
    "            temp = []\n",
    "            temp = move_effectiveness(p_name,index,pokemon,pokemon_moves)\n",
    "            name.append(temp[0])\n",
    "            lb.append(temp[1])\n",
    "            ub.append(temp[2])\n",
    "            kolb.append(temp[3])\n",
    "            koub.append(temp[4])\n",
    "            acc.append(pokemon_moves[pokemon_moves.index==index].ACCURACY.values)\n",
    "            typ.append(pokemon_moves[pokemon_moves.index==index].TYPE.values)\n",
    "            cat.append(pokemon_moves[pokemon_moves.index==index].CATEGORY.values)\n",
    "        except ValueError as err:\n",
    "            print(index,err)\n",
    "        except TypeError as err:\n",
    "            print(index,err)\n",
    "    df = pd.DataFrame({'MOVE':name})\n",
    "    df['LOWER BOUND'] = lb\n",
    "    df['UPPER BOUND'] = ub\n",
    "    df['GUARANTEED OHKO'] = kolb\n",
    "    df['OHKO RANGE'] = koub\n",
    "    df['ACCURACY'] = acc\n",
    "    df['ACCURACY'] = df['ACCURACY'].astype(int)\n",
    "    df['CONSISTENCY'] = df['LOWER BOUND'].astype(float)*df['ACCURACY'].astype(float)/100\n",
    "    df['CONSISTENCY'] = df['CONSISTENCY'].round(1)\n",
    "    df['TYPE'] = typ\n",
    "    df['CATEGORY'] = cat\n",
    "    df = df.set_index('MOVE')\n",
    "    df = df.sort_values(by='CONSISTENCY',ascending=False)\n",
    "    return df"
   ]
  },
  {
   "cell_type": "code",
   "execution_count": 10,
   "metadata": {},
   "outputs": [
    {
     "ename": "ValueError",
     "evalue": "Length of values does not match length of index",
     "output_type": "error",
     "traceback": [
      "\u001b[0;31m---------------------------------------------------------------------------\u001b[0m",
      "\u001b[0;31mValueError\u001b[0m                                Traceback (most recent call last)",
      "\u001b[0;32m<ipython-input-10-2be0bedbc763>\u001b[0m in \u001b[0;36m<module>\u001b[0;34m\u001b[0m\n\u001b[0;32m----> 1\u001b[0;31m \u001b[0meff\u001b[0m \u001b[0;34m=\u001b[0m \u001b[0mpokemon_effectiveness\u001b[0m\u001b[0;34m(\u001b[0m\u001b[0;34m'Zacian'\u001b[0m\u001b[0;34m,\u001b[0m\u001b[0mpokemon\u001b[0m\u001b[0;34m)\u001b[0m\u001b[0;34m\u001b[0m\u001b[0;34m\u001b[0m\u001b[0m\n\u001b[0m",
      "\u001b[0;32m<ipython-input-9-eb2203bdf82a>\u001b[0m in \u001b[0;36mpokemon_effectiveness\u001b[0;34m(p_name, pokemon)\u001b[0m\n\u001b[1;32m      8\u001b[0m     \u001b[0mtyp\u001b[0m \u001b[0;34m=\u001b[0m \u001b[0;34m[\u001b[0m\u001b[0;34m]\u001b[0m\u001b[0;34m\u001b[0m\u001b[0;34m\u001b[0m\u001b[0m\n\u001b[1;32m      9\u001b[0m     \u001b[0mcat\u001b[0m \u001b[0;34m=\u001b[0m \u001b[0;34m[\u001b[0m\u001b[0;34m]\u001b[0m\u001b[0;34m\u001b[0m\u001b[0;34m\u001b[0m\u001b[0m\n\u001b[0;32m---> 10\u001b[0;31m     \u001b[0mpokemon_moves\u001b[0m \u001b[0;34m=\u001b[0m \u001b[0mget_moves\u001b[0m\u001b[0;34m(\u001b[0m\u001b[0mp_name\u001b[0m\u001b[0;34m.\u001b[0m\u001b[0mlower\u001b[0m\u001b[0;34m(\u001b[0m\u001b[0;34m)\u001b[0m\u001b[0;34m)\u001b[0m\u001b[0;34m\u001b[0m\u001b[0;34m\u001b[0m\u001b[0m\n\u001b[0m\u001b[1;32m     11\u001b[0m     \u001b[0;31m#pokemon_moves = pokemon_moves[pokemon_moves['CATEGORY'] == 'physical' or pokemon_moves['CATEGORY'] == 'special')]\u001b[0m\u001b[0;34m\u001b[0m\u001b[0;34m\u001b[0m\u001b[0;34m\u001b[0m\u001b[0m\n\u001b[1;32m     12\u001b[0m     \u001b[0;32mfrom\u001b[0m \u001b[0mtqdm\u001b[0m \u001b[0;32mimport\u001b[0m \u001b[0mtnrange\u001b[0m\u001b[0;34m,\u001b[0m \u001b[0mnotebook\u001b[0m\u001b[0;34m\u001b[0m\u001b[0;34m\u001b[0m\u001b[0m\n",
      "\u001b[0;32m~/Documents/MachineLearning/Data_Pokemon/SerebiiScrapeData/Functions.ipynb\u001b[0m in \u001b[0;36mget_moves\u001b[0;34m(pokemon)\u001b[0m\n\u001b[1;32m    448\u001b[0m   {\n\u001b[1;32m    449\u001b[0m    \u001b[0;34m\"cell_type\"\u001b[0m\u001b[0;34m:\u001b[0m \u001b[0;34m\"markdown\"\u001b[0m\u001b[0;34m,\u001b[0m\u001b[0;34m\u001b[0m\u001b[0;34m\u001b[0m\u001b[0m\n\u001b[0;32m--> 450\u001b[0;31m    \u001b[0;34m\"metadata\"\u001b[0m\u001b[0;34m:\u001b[0m \u001b[0;34m{\u001b[0m\u001b[0;34m}\u001b[0m\u001b[0;34m,\u001b[0m\u001b[0;34m\u001b[0m\u001b[0;34m\u001b[0m\u001b[0m\n\u001b[0m\u001b[1;32m    451\u001b[0m    \"source\": [\n\u001b[1;32m    452\u001b[0m     \u001b[0;34m\"# A/D Ratio\"\u001b[0m\u001b[0;34m\u001b[0m\u001b[0;34m\u001b[0m\u001b[0m\n",
      "\u001b[0;32m~/opt/anaconda3/lib/python3.8/site-packages/pandas/core/frame.py\u001b[0m in \u001b[0;36m__setitem__\u001b[0;34m(self, key, value)\u001b[0m\n\u001b[1;32m   2936\u001b[0m         \u001b[0;32melse\u001b[0m\u001b[0;34m:\u001b[0m\u001b[0;34m\u001b[0m\u001b[0;34m\u001b[0m\u001b[0m\n\u001b[1;32m   2937\u001b[0m             \u001b[0;31m# set column\u001b[0m\u001b[0;34m\u001b[0m\u001b[0;34m\u001b[0m\u001b[0;34m\u001b[0m\u001b[0m\n\u001b[0;32m-> 2938\u001b[0;31m             \u001b[0mself\u001b[0m\u001b[0;34m.\u001b[0m\u001b[0m_set_item\u001b[0m\u001b[0;34m(\u001b[0m\u001b[0mkey\u001b[0m\u001b[0;34m,\u001b[0m \u001b[0mvalue\u001b[0m\u001b[0;34m)\u001b[0m\u001b[0;34m\u001b[0m\u001b[0;34m\u001b[0m\u001b[0m\n\u001b[0m\u001b[1;32m   2939\u001b[0m \u001b[0;34m\u001b[0m\u001b[0m\n\u001b[1;32m   2940\u001b[0m     \u001b[0;32mdef\u001b[0m \u001b[0m_setitem_slice\u001b[0m\u001b[0;34m(\u001b[0m\u001b[0mself\u001b[0m\u001b[0;34m,\u001b[0m \u001b[0mkey\u001b[0m\u001b[0;34m,\u001b[0m \u001b[0mvalue\u001b[0m\u001b[0;34m)\u001b[0m\u001b[0;34m:\u001b[0m\u001b[0;34m\u001b[0m\u001b[0;34m\u001b[0m\u001b[0m\n",
      "\u001b[0;32m~/opt/anaconda3/lib/python3.8/site-packages/pandas/core/frame.py\u001b[0m in \u001b[0;36m_set_item\u001b[0;34m(self, key, value)\u001b[0m\n\u001b[1;32m   2998\u001b[0m \u001b[0;34m\u001b[0m\u001b[0m\n\u001b[1;32m   2999\u001b[0m         \u001b[0mself\u001b[0m\u001b[0;34m.\u001b[0m\u001b[0m_ensure_valid_index\u001b[0m\u001b[0;34m(\u001b[0m\u001b[0mvalue\u001b[0m\u001b[0;34m)\u001b[0m\u001b[0;34m\u001b[0m\u001b[0;34m\u001b[0m\u001b[0m\n\u001b[0;32m-> 3000\u001b[0;31m         \u001b[0mvalue\u001b[0m \u001b[0;34m=\u001b[0m \u001b[0mself\u001b[0m\u001b[0;34m.\u001b[0m\u001b[0m_sanitize_column\u001b[0m\u001b[0;34m(\u001b[0m\u001b[0mkey\u001b[0m\u001b[0;34m,\u001b[0m \u001b[0mvalue\u001b[0m\u001b[0;34m)\u001b[0m\u001b[0;34m\u001b[0m\u001b[0;34m\u001b[0m\u001b[0m\n\u001b[0m\u001b[1;32m   3001\u001b[0m         \u001b[0mNDFrame\u001b[0m\u001b[0;34m.\u001b[0m\u001b[0m_set_item\u001b[0m\u001b[0;34m(\u001b[0m\u001b[0mself\u001b[0m\u001b[0;34m,\u001b[0m \u001b[0mkey\u001b[0m\u001b[0;34m,\u001b[0m \u001b[0mvalue\u001b[0m\u001b[0;34m)\u001b[0m\u001b[0;34m\u001b[0m\u001b[0;34m\u001b[0m\u001b[0m\n\u001b[1;32m   3002\u001b[0m \u001b[0;34m\u001b[0m\u001b[0m\n",
      "\u001b[0;32m~/opt/anaconda3/lib/python3.8/site-packages/pandas/core/frame.py\u001b[0m in \u001b[0;36m_sanitize_column\u001b[0;34m(self, key, value, broadcast)\u001b[0m\n\u001b[1;32m   3634\u001b[0m \u001b[0;34m\u001b[0m\u001b[0m\n\u001b[1;32m   3635\u001b[0m             \u001b[0;31m# turn me into an ndarray\u001b[0m\u001b[0;34m\u001b[0m\u001b[0;34m\u001b[0m\u001b[0;34m\u001b[0m\u001b[0m\n\u001b[0;32m-> 3636\u001b[0;31m             \u001b[0mvalue\u001b[0m \u001b[0;34m=\u001b[0m \u001b[0msanitize_index\u001b[0m\u001b[0;34m(\u001b[0m\u001b[0mvalue\u001b[0m\u001b[0;34m,\u001b[0m \u001b[0mself\u001b[0m\u001b[0;34m.\u001b[0m\u001b[0mindex\u001b[0m\u001b[0;34m,\u001b[0m \u001b[0mcopy\u001b[0m\u001b[0;34m=\u001b[0m\u001b[0;32mFalse\u001b[0m\u001b[0;34m)\u001b[0m\u001b[0;34m\u001b[0m\u001b[0;34m\u001b[0m\u001b[0m\n\u001b[0m\u001b[1;32m   3637\u001b[0m             \u001b[0;32mif\u001b[0m \u001b[0;32mnot\u001b[0m \u001b[0misinstance\u001b[0m\u001b[0;34m(\u001b[0m\u001b[0mvalue\u001b[0m\u001b[0;34m,\u001b[0m \u001b[0;34m(\u001b[0m\u001b[0mnp\u001b[0m\u001b[0;34m.\u001b[0m\u001b[0mndarray\u001b[0m\u001b[0;34m,\u001b[0m \u001b[0mIndex\u001b[0m\u001b[0;34m)\u001b[0m\u001b[0;34m)\u001b[0m\u001b[0;34m:\u001b[0m\u001b[0;34m\u001b[0m\u001b[0;34m\u001b[0m\u001b[0m\n\u001b[1;32m   3638\u001b[0m                 \u001b[0;32mif\u001b[0m \u001b[0misinstance\u001b[0m\u001b[0;34m(\u001b[0m\u001b[0mvalue\u001b[0m\u001b[0;34m,\u001b[0m \u001b[0mlist\u001b[0m\u001b[0;34m)\u001b[0m \u001b[0;32mand\u001b[0m \u001b[0mlen\u001b[0m\u001b[0;34m(\u001b[0m\u001b[0mvalue\u001b[0m\u001b[0;34m)\u001b[0m \u001b[0;34m>\u001b[0m \u001b[0;36m0\u001b[0m\u001b[0;34m:\u001b[0m\u001b[0;34m\u001b[0m\u001b[0;34m\u001b[0m\u001b[0m\n",
      "\u001b[0;32m~/opt/anaconda3/lib/python3.8/site-packages/pandas/core/internals/construction.py\u001b[0m in \u001b[0;36msanitize_index\u001b[0;34m(data, index, copy)\u001b[0m\n\u001b[1;32m    609\u001b[0m \u001b[0;34m\u001b[0m\u001b[0m\n\u001b[1;32m    610\u001b[0m     \u001b[0;32mif\u001b[0m \u001b[0mlen\u001b[0m\u001b[0;34m(\u001b[0m\u001b[0mdata\u001b[0m\u001b[0;34m)\u001b[0m \u001b[0;34m!=\u001b[0m \u001b[0mlen\u001b[0m\u001b[0;34m(\u001b[0m\u001b[0mindex\u001b[0m\u001b[0;34m)\u001b[0m\u001b[0;34m:\u001b[0m\u001b[0;34m\u001b[0m\u001b[0;34m\u001b[0m\u001b[0m\n\u001b[0;32m--> 611\u001b[0;31m         \u001b[0;32mraise\u001b[0m \u001b[0mValueError\u001b[0m\u001b[0;34m(\u001b[0m\u001b[0;34m\"Length of values does not match length of index\"\u001b[0m\u001b[0;34m)\u001b[0m\u001b[0;34m\u001b[0m\u001b[0;34m\u001b[0m\u001b[0m\n\u001b[0m\u001b[1;32m    612\u001b[0m \u001b[0;34m\u001b[0m\u001b[0m\n\u001b[1;32m    613\u001b[0m     \u001b[0;32mif\u001b[0m \u001b[0misinstance\u001b[0m\u001b[0;34m(\u001b[0m\u001b[0mdata\u001b[0m\u001b[0;34m,\u001b[0m \u001b[0mABCIndexClass\u001b[0m\u001b[0;34m)\u001b[0m \u001b[0;32mand\u001b[0m \u001b[0;32mnot\u001b[0m \u001b[0mcopy\u001b[0m\u001b[0;34m:\u001b[0m\u001b[0;34m\u001b[0m\u001b[0;34m\u001b[0m\u001b[0m\n",
      "\u001b[0;31mValueError\u001b[0m: Length of values does not match length of index"
     ]
    }
   ],
   "source": [
    "eff = pokemon_effectiveness('Charizard',pokemon)"
   ]
  },
  {
   "cell_type": "code",
   "execution_count": null,
   "metadata": {},
   "outputs": [],
   "source": [
    "eff = eff.sort_values(by='CONSISTENCY',ascending=False)\n",
    "eff"
   ]
  },
  {
   "cell_type": "code",
   "execution_count": null,
   "metadata": {},
   "outputs": [],
   "source": [
    "eff.style.apply(lambda x: [\"background: white\" if i == 0 else \"\" for i, v in enumerate(x)], axis=1)"
   ]
  },
  {
   "cell_type": "code",
   "execution_count": null,
   "metadata": {},
   "outputs": [],
   "source": [
    "print(battle('Tepig',15,'Patrat',12,'Tackle',pokemon,get_moves('Tepig'.lower()),False))\n",
    "print(battle('Tepig',15,'Patrat',12,'Ember',pokemon,get_moves('Tepig'.lower()),False))\n",
    "print(battle('Tepig',15,'Patrat',12,'Flame Charge',pokemon,get_moves('Tepig'.lower()),False))"
   ]
  },
  {
   "cell_type": "code",
   "execution_count": null,
   "metadata": {},
   "outputs": [],
   "source": []
  },
  {
   "cell_type": "code",
   "execution_count": null,
   "metadata": {},
   "outputs": [],
   "source": []
  }
 ],
 "metadata": {
  "kernelspec": {
   "display_name": "Python 3",
   "language": "python",
   "name": "python3"
  },
  "language_info": {
   "codemirror_mode": {
    "name": "ipython",
    "version": 3
   },
   "file_extension": ".py",
   "mimetype": "text/x-python",
   "name": "python",
   "nbconvert_exporter": "python",
   "pygments_lexer": "ipython3",
   "version": "3.8.3"
  }
 },
 "nbformat": 4,
 "nbformat_minor": 4
}
