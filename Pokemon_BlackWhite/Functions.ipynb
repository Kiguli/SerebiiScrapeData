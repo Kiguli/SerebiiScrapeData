{
 "cells": [
  {
   "cell_type": "code",
   "execution_count": 1,
   "metadata": {},
   "outputs": [],
   "source": [
    "import pandas as pd  #importing all the important packages\n",
    "import numpy as np\n",
    "import matplotlib.pyplot as plt #currently not used\n",
    "import seaborn as sns #currently not used\n",
    "import pickle\n",
    "pickle_in = open('gen5_pokemon.pickle','rb')\n",
    "pokemon = pickle.load(pickle_in)\n",
    "pickle_in = open('all_gen5_moves.pickle','rb')\n",
    "moves = pickle.load(pickle_in)"
   ]
  },
  {
   "cell_type": "markdown",
   "metadata": {},
   "source": [
    "# Damage multiplier for type matchups"
   ]
  },
  {
   "cell_type": "markdown",
   "metadata": {},
   "source": [
    "The function accepts two types, the first type is the attacking move type and the second is the defenders type (if the defender has multiple types this function should be run multiple times and multiplied together)."
   ]
  },
  {
   "cell_type": "code",
   "execution_count": 2,
   "metadata": {},
   "outputs": [],
   "source": [
    "def type_weakness(type1,type2):\n",
    "    if type1 == 'normal':\n",
    "        if type2 in ['rock' ,'steel']:\n",
    "            return 0.5\n",
    "        elif type2 == 'ghost':\n",
    "            return 0\n",
    "    if type1 == 'fire':\n",
    "        if type2 in ['water','fire','rock', 'dragon']:\n",
    "            return 0.5\n",
    "        elif type2 in ['grass', 'ice', 'bug','steel']:\n",
    "            return 2\n",
    "    if type1 == 'water':\n",
    "        if type2 in ['water', 'grass', 'dragon']:\n",
    "            return 0.5\n",
    "        if type2 in ['fire', 'ground', 'rock']:\n",
    "            return 2\n",
    "    if type1 == 'grass':\n",
    "        if type2 in ['fire', 'grass', 'poison' , 'dragon', 'steel', 'bug', 'flying']:\n",
    "            return 0.5\n",
    "        if type2 in ['water' , 'ground' ,'rock']:\n",
    "            return 2\n",
    "    if type1 == 'electric':\n",
    "        if type2 == 'ground':\n",
    "            return 0\n",
    "        if type2 in ['grass', 'electric', 'dragon']:\n",
    "            return 0.5\n",
    "        if type2 in ['water','flying']:\n",
    "            return 2\n",
    "    if type1 == 'ice':\n",
    "        if type2 in ['fire', 'water', 'ice', 'steel']:\n",
    "            return 0.5\n",
    "        if type2 in ['grass','flying','ground', 'dragon']:\n",
    "            return 2\n",
    "    if type1 == 'fighting':\n",
    "        if type2 == 'ghost':\n",
    "            return 0\n",
    "        if type2 in ['poison', 'flying', 'psychic', 'bug', 'fairy']:\n",
    "            return 0.5\n",
    "        if type2 in ['normal', 'ice','rock', 'dark', 'steel']:\n",
    "            return 2\n",
    "    if type1 == 'poison':\n",
    "        if type2 == 'steel':\n",
    "            return 0\n",
    "        if type2 in ['poison', 'ground', 'rock', 'ghost']:\n",
    "            return 0.5\n",
    "        if type2 in['fairy', 'grass']:\n",
    "            return 2\n",
    "    if type1 == 'ground':\n",
    "        if type2 == 'flying':\n",
    "            return 0\n",
    "        if type2 in['grass','bug']:\n",
    "            return 0.5\n",
    "        if type2 in ['fire', 'electric','rock', 'steel', 'poison']:\n",
    "            return 2\n",
    "    if type1 == 'flying':\n",
    "        if type2 in['electric','steel', 'rock']:\n",
    "            return 0.5\n",
    "        if type2 in ['grass', 'fighting', 'bug']:\n",
    "            return 2\n",
    "    if type1 == 'psychic':\n",
    "        if type2 == 'dark':\n",
    "            return 0\n",
    "        if type2 in['steel','psychic']:\n",
    "            return 0.5\n",
    "        if type2 in ['fighting', 'poison']:\n",
    "            return 2\n",
    "    if type1 == 'bug':\n",
    "        if type2 in ['fire', 'fighting', 'poison', 'flying', 'ghost' ,'steel', 'fairy']:\n",
    "            return 0.5\n",
    "        if type2 in ['dark','psychic','ghost']:\n",
    "            return 2\n",
    "    if type1 == 'rock':\n",
    "        if type2 in ['steel', 'fighting', 'ground']:\n",
    "            return 0.5\n",
    "        if type2 in ['bug' ,'flying','ice','fire']:\n",
    "            return 2\n",
    "    if type1 == 'ghost':\n",
    "        if type2 == 'normal':\n",
    "            return 0\n",
    "        if type2 == 'dark':\n",
    "            return 0.5\n",
    "        if type2 in ['psychic','ghost']:\n",
    "            return 2\n",
    "    if type1 == 'dragon':\n",
    "        if type2 == 'fairy':\n",
    "            return 0\n",
    "        if type2 == 'steel':\n",
    "            return 0.5\n",
    "        if type2 == 'dragon':\n",
    "            return 2\n",
    "    if type1 == 'dark':\n",
    "        if type2 in ['fighting','dark','fairy']:\n",
    "            return 0.5\n",
    "        if type2 in ['ghost','psychic']:\n",
    "            return 2\n",
    "    if type1 == 'steel':\n",
    "        if type2 in ['steel','fire','water','electric']:\n",
    "            return 0.5\n",
    "        if type2 in ['ice','rock','fairy']:\n",
    "            return 2\n",
    "    if type1 == 'fairy':\n",
    "        if type2 in ['fire', 'poison', 'steel']:\n",
    "            return 0.5\n",
    "        if type2 in ['dragon', 'fighting', 'dark']:\n",
    "            return 2\n",
    "    return 1"
   ]
  },
  {
   "cell_type": "markdown",
   "metadata": {},
   "source": [
    "# Damage Calculations"
   ]
  },
  {
   "cell_type": "code",
   "execution_count": 3,
   "metadata": {},
   "outputs": [],
   "source": [
    "def dmg(ratio,lvl,crit,power,movetype,stab,deftype1,deftype2,other):\n",
    "    #initial dmg\n",
    "    dmg = 2*lvl/5+2\n",
    "    #move power\n",
    "    dmg = dmg*power\n",
    "    #Physical or Special dmg\n",
    "    dmg = dmg*ratio\n",
    "    #extras\n",
    "    dmg =dmg/50+2\n",
    "    #burned (and not guts)\n",
    "    #if burn == True:\n",
    "    #    dmg = dmg/2\n",
    "    #screen\n",
    "    #if screen == True:\n",
    "    #    if double == True:\n",
    "    #        dmg = dmg*2/3\n",
    "    #    else:\n",
    "    #        dmg = dmg/2\n",
    "    #in double battle dmg split between targets\n",
    "    #if double == True and targetall == False:\n",
    "    #    dmg = dmg/2\n",
    "    #flash fire\n",
    "    #if FF == True:\n",
    "    #    dmg = dmg*1.5\n",
    "    #weather\n",
    "    #if weather == True:\n",
    "    #    dmg = dmg*1.5\n",
    "    #item multiplier (assuming this goes here)\n",
    "    #dmg = dmg*item\n",
    "    #STAB dmg\n",
    "    if stab == True:\n",
    "        dmg = dmg*1.5\n",
    "    #consider weaknesses\n",
    "    if deftype1 == deftype2:\n",
    "        dmg = dmg*type_weakness(movetype,deftype1)\n",
    "    else:\n",
    "        dmg = dmg*type_weakness(movetype,deftype1)\n",
    "        dmg = dmg*type_weakness(movetype,deftype2)\n",
    "    #if crits\n",
    "    if crit == True:\n",
    "        dmg = 1.5*dmg\n",
    "    #weatherball revenge (only in clear weather)\n",
    "    #if WBR == True:\n",
    "    #    dmg = dmg*2\n",
    "    #helping hand\n",
    "    #if HH == True:\n",
    "    #    dmg = dmg*1.5\n",
    "    #electric type charge effect\n",
    "    #if charge == True:\n",
    "    #    dmg =dmg*2\n",
    "    #any other effects; e.g. abilities\n",
    "    dmg = dmg*other\n",
    "    return [int(dmg*(85/100)),int(dmg)]"
   ]
  },
  {
   "cell_type": "markdown",
   "metadata": {},
   "source": [
    "# Base Stats at Level"
   ]
  },
  {
   "cell_type": "markdown",
   "metadata": {},
   "source": [
    "We use the following function to determine a pokemons base stats at a certain level, this does not include IVs, EVs or natures. However, in the function IVs and EVs can be seen. Natures would multiply one stat by 1.1 and another by 0.9."
   ]
  },
  {
   "cell_type": "code",
   "execution_count": 4,
   "metadata": {},
   "outputs": [],
   "source": [
    "def base_stats_at_lvl(Pokemon,level,df):\n",
    "    pkm = df[df.index == Pokemon]\n",
    "    IV = 0#[0,0,0,0,0,0]\n",
    "    EV = 0#[0,0,0,0,0,0]\n",
    "    HP = ((2*pkm['HP']+IV+(EV/4))*level)/100+level+10\n",
    "    ATK = ((2*pkm['ATK']+IV+(EV/4))*level)/100+5\n",
    "    DEF = ((2*pkm['DEF']+IV+(EV/4))*level)/100+5\n",
    "    SPATK = ((2*pkm['SPATK']+IV+(EV/4))*level)/100+5\n",
    "    SPDEF = ((2*pkm['SPDEF']+IV+(EV/4))*level)/100+5\n",
    "    SPD = ((2*pkm['SPD']+IV+(EV/4))*level)/100+5\n",
    "    return [int(HP),int(ATK),int(DEF),int(SPATK),int(SPDEF),int(SPD)]"
   ]
  },
  {
   "cell_type": "markdown",
   "metadata": {},
   "source": [
    "# A/D Ratio"
   ]
  },
  {
   "cell_type": "markdown",
   "metadata": {},
   "source": [
    "We create a function to calculate the A/D ratio between two pokemon. This is the difference in the attack stat with the defence stat or the special attack stat with the special defence stat. (There are some exceptions such as Psyshock and Psystrike)."
   ]
  },
  {
   "cell_type": "code",
   "execution_count": 5,
   "metadata": {},
   "outputs": [],
   "source": [
    "def phys_spec_ratio(atk_pkm,atk_lvl,def_pkm,def_lvl,df):\n",
    "    pkm1 = base_stats_at_lvl(atk_pkm,atk_lvl,df)\n",
    "    pkm2 = base_stats_at_lvl(def_pkm,def_lvl,df)\n",
    "    phys = pkm1[1]/pkm2[2]\n",
    "    spec = pkm1[3]/pkm2[4]\n",
    "    return[float(phys),float(spec)]"
   ]
  },
  {
   "cell_type": "markdown",
   "metadata": {},
   "source": [
    "# Speed Test"
   ]
  },
  {
   "cell_type": "markdown",
   "metadata": {},
   "source": [
    "We create a function to test the speed comparison between two pokemon."
   ]
  },
  {
   "cell_type": "code",
   "execution_count": 6,
   "metadata": {},
   "outputs": [],
   "source": [
    "def speed_test(atk_pkm,atk_lvl,def_pkm,def_lvl,df):\n",
    "    pkm1 = base_stats_at_lvl(atk_pkm,atk_lvl,df)\n",
    "    pkm2 = base_stats_at_lvl(def_pkm,def_lvl,df)\n",
    "    spd1 = pkm1[5]\n",
    "    spd2 = pkm2[5]\n",
    "    spd1_posNat = spd1*1.1\n",
    "    spd1_negNat = spd1*0.9\n",
    "    print(atk_pkm +' negative nature: ' + str(spd1_negNat))\n",
    "    print(atk_pkm +' neutral nature: ' + str(spd1))\n",
    "    print(atk_pkm +' positive nature: ' + str(spd1_posNat))\n",
    "    print(def_pkm +' base speed: ' + str(spd2))\n",
    "    #return[float(spd1_negNat),float(spd1),float(posNat),float(spd2)]\n",
    "#speed_test('Pignite',20,'Watchog',20,pokemon)"
   ]
  },
  {
   "cell_type": "markdown",
   "metadata": {},
   "source": [
    "# Get Moves"
   ]
  },
  {
   "cell_type": "markdown",
   "metadata": {},
   "source": [
    "Returns the dataframe of moves associated with a pokemon."
   ]
  },
  {
   "cell_type": "code",
   "execution_count": 7,
   "metadata": {},
   "outputs": [],
   "source": [
    "def get_moves(pokemon,moves):\n",
    "    return moves[moves['POKEMON']==pokemon]"
   ]
  },
  {
   "cell_type": "markdown",
   "metadata": {},
   "source": [
    "For moves which the power is based on weight, e.g. heat crash, grass knot, heavy slam and low kick damage is calculated thus."
   ]
  },
  {
   "cell_type": "code",
   "execution_count": 8,
   "metadata": {},
   "outputs": [],
   "source": [
    "def both_weight(p1,p2,pokemon):\n",
    "    w1 = pokemon[pokemon.index == p1].WEIGHTKGS.values.astype(float)\n",
    "    w2 = pokemon[pokemon.index == p2].WEIGHTKGS.values.astype(float)\n",
    "    if w2/w1*100 <= 20:\n",
    "        return 120\n",
    "    elif w2/w1*100 <= 25:\n",
    "        return 100\n",
    "    elif w2/w1*100 <= 100/3:\n",
    "        return 80\n",
    "    elif w2/w1*100 <= 50:\n",
    "        return 60\n",
    "    else:\n",
    "        return 40"
   ]
  },
  {
   "cell_type": "code",
   "execution_count": 9,
   "metadata": {},
   "outputs": [],
   "source": [
    "def target_weight(p2,pokemon):\n",
    "    w = pokemon[pokemon.index == p2].WEIGHTKGS.values.astype(float)\n",
    "    if w < 10:\n",
    "        return 20\n",
    "    elif w < 25:\n",
    "        return 40\n",
    "    elif w < 50:\n",
    "        return 60\n",
    "    elif w < 100:\n",
    "        return 80\n",
    "    elif w < 200:\n",
    "        return 100\n",
    "    else:\n",
    "        return 120"
   ]
  },
  {
   "cell_type": "markdown",
   "metadata": {},
   "source": [
    "# BATTLE"
   ]
  },
  {
   "cell_type": "markdown",
   "metadata": {},
   "source": [
    "We take the example of two pokemon with no IVs,EVs, or natures attacking one another. The function takes in the two pokemon and the move being used as well as their levels"
   ]
  },
  {
   "cell_type": "code",
   "execution_count": 10,
   "metadata": {},
   "outputs": [],
   "source": [
    "def battle(p1_name,p1_lvl,p2_name,p2_lvl,move,crit,pokemon,moves):\n",
    "    a_d = phys_spec_ratio(p1_name,p1_lvl,p2_name,p2_lvl,pokemon)\n",
    "    moves = get_moves(p1_name,moves)\n",
    "    move = moves[moves.index == move]\n",
    "    if move.CATEGORY.values == 'physical':\n",
    "        ratio = a_d[0]\n",
    "    elif move.CATEGORY.values == 'special':\n",
    "        ratio = a_d[1]\n",
    "    else:\n",
    "        ratio = 0\n",
    "    p1 = pokemon[pokemon.index == p1_name]\n",
    "    p2 = pokemon[pokemon.index == p2_name]\n",
    "    STAB = (move.TYPE.values == p1.TYPE1.values) or (move.TYPE.values == p1.TYPE2.values)\n",
    "    other = 1\n",
    "    if (move.index.values == 'Heat Crash') or (move.index.values == 'Heavy Slam'):\n",
    "        power = both_weight(p1_name,p2_name,pokemon)\n",
    "        damage = dmg(ratio, p1_lvl, crit, power, move['TYPE'].values,STAB,p2['TYPE1'].values,p2['TYPE2'].values,other)\n",
    "    elif (move.index.values == 'Grass Knot') or (move.index.values == 'Low Kick'):\n",
    "        power = target_weight(p2_name,pokemon)\n",
    "        damage = dmg(ratio, p1_lvl, crit, power, move['TYPE'].values,STAB,p2['TYPE1'].values,p2['TYPE2'].values,other)\n",
    "    else:\n",
    "        damage = dmg(ratio, p1_lvl, crit, move['POWER'].values.astype(str).astype(int), move['TYPE'].values,STAB,p2['TYPE1'].values,p2['TYPE2'].values,other)\n",
    "    p2_hp = base_stats_at_lvl(p2_name,p2_lvl,pokemon)[0]\n",
    "    return [int(damage[0]/p2_hp*100),int(damage[1]/p2_hp*100)]\n",
    "#battle('Emboar',30,'Lillipup',30,'Heat Crash',False,pokemon,moves)"
   ]
  },
  {
   "cell_type": "markdown",
   "metadata": {},
   "source": [
    "Expanding the battle function, a shorter code can be written to try multiple moves"
   ]
  },
  {
   "cell_type": "code",
   "execution_count": 11,
   "metadata": {},
   "outputs": [],
   "source": [
    "def battle_list(p1_name,p1_lvl,p2_name,p2_lvl,move,crit,pokemon,moves):\n",
    "    for m in move:\n",
    "        print(m,battle(p1_name,p1_lvl,p2_name,p2_lvl,m,crit,pokemon,moves))\n",
    "#battle_list('Emboar',30,'Lillipup',30,['Superpower','Ember','Flamethrower'],False,pokemon,moves)"
   ]
  },
  {
   "cell_type": "markdown",
   "metadata": {},
   "source": [
    "We create a function to test the effectiveness of a pokemon using a move against all other pokemon to see the average damage done. This is run using the base stats at level 50 similar to a competitive pokemon battle."
   ]
  },
  {
   "cell_type": "code",
   "execution_count": 12,
   "metadata": {},
   "outputs": [],
   "source": [
    "def move_effectiveness(p_name,move,pokemon,moves):\n",
    "    dmg = [0, 0]\n",
    "    ko = [0, 0]\n",
    "    for index, row in pokemon.iterrows():\n",
    "        d = battle(p_name,50,index,50,move,False,pokemon,moves)\n",
    "        if d[0] > 100:\n",
    "            d[0] = 100\n",
    "            ko[0] = ko[0] + 1\n",
    "        if d[1] > 100:\n",
    "            d[1] = 100\n",
    "            ko[1] = ko[1] + 1\n",
    "        dmg = [dmg[0]+d[0],dmg[1]+d[1]]\n",
    "    dmg[0] = dmg[0]/len(pokemon)\n",
    "    dmg[1] = dmg[1]/len(pokemon)\n",
    "    return [move,round(dmg[0],1),round(dmg[1],1),ko[0],ko[1]]\n",
    "#move_effectiveness('Tepig','Ember',pokemon,moves)"
   ]
  },
  {
   "cell_type": "markdown",
   "metadata": {},
   "source": [
    "Using this new function move effectiveness in combination with the list of moves a pokemon knows we can create a dataframe of the pokemon's moves and their effectiveness against all pokemon."
   ]
  },
  {
   "cell_type": "code",
   "execution_count": 13,
   "metadata": {},
   "outputs": [],
   "source": [
    "def pokemon_effectiveness(p_name,pokemon):\n",
    "    name = []\n",
    "    kolb = []\n",
    "    koub = []\n",
    "    lb = []\n",
    "    ub = []\n",
    "    acc = []\n",
    "    typ = []\n",
    "    cat = []\n",
    "    pickle_in = open('all_gen5_moves.pickle','rb')\n",
    "    moves = pickle.load(pickle_in)\n",
    "    pokemon_moves = get_moves(p_name,moves)\n",
    "    from tqdm import tnrange, notebook\n",
    "    for index, row in notebook.tqdm(pokemon_moves.iterrows(),desc='main loop',total=len(pokemon_moves)):\n",
    "        try:\n",
    "            temp = []\n",
    "            temp = move_effectiveness(p_name,index,pokemon,pokemon_moves)\n",
    "            name.append(temp[0])\n",
    "            lb.append(temp[1])\n",
    "            ub.append(temp[2])\n",
    "            kolb.append(temp[3])\n",
    "            koub.append(temp[4])\n",
    "            acc.append(pokemon_moves[pokemon_moves.index==index].ACCURACY.values)\n",
    "            typ.append(pokemon_moves[pokemon_moves.index==index].TYPE.values)\n",
    "            cat.append(pokemon_moves[pokemon_moves.index==index].CATEGORY.values)\n",
    "        except ValueError as err:\n",
    "            print(index,err)\n",
    "        except TypeError as err:\n",
    "            print(index,err)\n",
    "    df = pd.DataFrame({'MOVE':name})\n",
    "    df['LOWER BOUND'] = lb\n",
    "    df['UPPER BOUND'] = ub\n",
    "    df['GUARANTEED OHKO'] = kolb\n",
    "    df['OHKO RANGE'] = koub\n",
    "    df['ACCURACY'] = acc\n",
    "    df['ACCURACY'] = df['ACCURACY'].astype(int)\n",
    "    df['CONSISTENCY'] = df['LOWER BOUND'].astype(float)*df['ACCURACY'].astype(float)/100\n",
    "    df['CONSISTENCY'] = df['CONSISTENCY'].round(1)\n",
    "    df['TYPE'] = typ\n",
    "    df['CATEGORY'] = cat\n",
    "    df = df.set_index('MOVE')\n",
    "    df = df.sort_values(by='CONSISTENCY',ascending=False)\n",
    "    return df\n",
    "#pokemon_effectiveness('Emboar',pokemon)"
   ]
  },
  {
   "cell_type": "code",
   "execution_count": null,
   "metadata": {},
   "outputs": [],
   "source": []
  }
 ],
 "metadata": {
  "kernelspec": {
   "display_name": "Python 3",
   "language": "python",
   "name": "python3"
  },
  "language_info": {
   "codemirror_mode": {
    "name": "ipython",
    "version": 3
   },
   "file_extension": ".py",
   "mimetype": "text/x-python",
   "name": "python",
   "nbconvert_exporter": "python",
   "pygments_lexer": "ipython3",
   "version": "3.8.3"
  }
 },
 "nbformat": 4,
 "nbformat_minor": 4
}
