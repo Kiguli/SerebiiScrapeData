{
 "cells": [
  {
   "cell_type": "code",
   "execution_count": 1,
   "metadata": {},
   "outputs": [],
   "source": [
    "import pandas as pd  #importing all the important packages\n",
    "import numpy as np"
   ]
  },
  {
   "cell_type": "code",
   "execution_count": 2,
   "metadata": {},
   "outputs": [],
   "source": [
    "class SingleBattle(object): #inherit object class\n",
    "    def __init__(self, user_team, target_team, pokemon, moves):\n",
    "        #user team\n",
    "        if len(user_team) > 0 and len(user_team) <= 6:\n",
    "            self.user_team = user_team\n",
    "        else:\n",
    "            raise Exception(\"Impossible team size for user!\")\n",
    "        # target team\n",
    "        if len(target_team) > 0 and len(target_team) <= 6:\n",
    "            self.target_team = target_team\n",
    "        else:\n",
    "            raise Exception(\"Impossible team size for target!\")\n",
    "        self.user_lead_pokemon = user_team[0]\n",
    "        self.target_lead_pokemon = target_team[0]\n",
    "        self.weather = [None,0]\n",
    "        self.hazards = [None,None]\n",
    "        self.reflect = [False, 0, False, 0]\n",
    "        self.light_screen = [False, 0, False, 0]\n",
    "        self.turns_passed = 0\n",
    "        self.turn_number = 1\n",
    "    # instance method\n",
    "    def show(self):\n",
    "        for i in self.user_team:\n",
    "            print(i.show())\n",
    "        print('========================')\n",
    "        for i in self.target_team:\n",
    "            print(i.show())\n",
    "        print('========================')\n",
    "        print('Weather:', self.weather[0], 'Turns Left:', self.weather[1])\n",
    "        print('Hazards:', self.hazards)\n",
    "        print('Reflect:', [self.reflect[0],self.reflect[2]], 'Turns Left:', [self.reflect[1],self.reflect[3]])\n",
    "        print('Light Screen:',[self.light_screen[0],self.light_screen[2]],'Turns Left:', [self.light_screen[1],self.light_screen[3]])\n",
    "        print('Turn Number:',self.turn_number)\n",
    "    \n",
    "    #get methods\n",
    "    def getTargets(self):\n",
    "        return self.target_team\n",
    "    def getUsers(self):\n",
    "        return self.user_team\n",
    "    #set methods"
   ]
  },
  {
   "cell_type": "code",
   "execution_count": 19,
   "metadata": {},
   "outputs": [],
   "source": [
    "import pickle\n",
    "pickle_in = open('../Pokemon_BlackWhite/gen5_pokemon.pickle','rb')\n",
    "pokemon = pickle.load(pickle_in)\n",
    "pickle_in = open('../Pokemon_BlackWhite/all_gen5_moves.pickle','rb')\n",
    "moves = pickle.load(pickle_in)\n",
    "from ipynb.fs.defs.pokemon_class import Pokemon\n",
    "snivy = Pokemon.ivs('Snivy',10,'Overgrow',['Vine Whip', 'Leaf Tornado'], pokemon,'Bold',[31,31,31,31,31,31])\n",
    "samurott = Pokemon.base('Samurott',40,'Torrent',['Megahorn','Tackle'], pokemon)\n",
    "pignite = Pokemon.evs('Pignite',26,'Blaze',['Tackle','Ember','Flame Charge'],pokemon,'Bold',[31,31,31,31,31,31],[0,252,0,0,252,4])\n",
    "arena = SingleBattle([pignite],[snivy,samurott],pokemon, moves)"
   ]
  },
  {
   "cell_type": "code",
   "execution_count": 20,
   "metadata": {},
   "outputs": [
    {
     "name": "stdout",
     "output_type": "stream",
     "text": [
      "Pignite Level: 26 \n",
      "Base: [90, 93, 55, 70, 55, 55] Total: 418 \n",
      "IVs: [31, 31, 31, 31, 31, 31] \n",
      "EVs: [0, 252, 0, 0, 252, 4] \n",
      "Nature: Bold Ability: Blaze \n",
      "Item: None Status: None \n",
      "Current HP: 90 \n",
      "Moves:  ['Tackle', 'Ember', 'Flame Charge'] \n",
      "Fainted : False\n",
      "None\n",
      "========================\n",
      "Snivy Level: 10 \n",
      "Base: [45, 45, 55, 45, 55, 63] Total: 308 \n",
      "IVs: [31, 31, 31, 31, 31, 31] \n",
      "EVs: [0, 0, 0, 0, 0, 0] \n",
      "Nature: Bold Ability: Overgrow \n",
      "Item: None Status: None \n",
      "Current HP: 32 \n",
      "Moves:  ['Vine Whip', 'Leaf Tornado'] \n",
      "Fainted : False\n",
      "None\n",
      "Samurott Level: 40 \n",
      "Base: [95, 100, 85, 108, 70, 70] Total: 528 \n",
      "IVs: [0, 0, 0, 0, 0, 0] \n",
      "EVs: [0, 0, 0, 0, 0, 0] \n",
      "Nature: Hardy Ability: Torrent \n",
      "Item: None Status: None \n",
      "Current HP: 126 \n",
      "Moves:  ['Megahorn', 'Tackle'] \n",
      "Fainted : False\n",
      "None\n",
      "========================\n",
      "Weather: None Turns Left: 0\n",
      "Hazards: [None, None]\n",
      "Reflect: [False, False] Turns Left: [0, 0]\n",
      "Light Screen: [False, False] Turns Left: [0, 0]\n",
      "Turn Number: 1\n"
     ]
    }
   ],
   "source": [
    "arena.show()"
   ]
  },
  {
   "cell_type": "code",
   "execution_count": 25,
   "metadata": {},
   "outputs": [
    {
     "name": "stdout",
     "output_type": "stream",
     "text": [
      "########\n",
      "Pignite vs Snivy\n",
      "Speed: 41 vs 20\n",
      "-----\n",
      "Tackle [124, 148]\n",
      "Ember [237, 282]\n",
      "Flame Charge [375, 444]\n",
      "-----\n",
      "Vine Whip [2, 2]\n",
      "Leaf Tornado [3, 3]\n",
      "########\n",
      "Pignite vs Samurott\n",
      "Speed: 41 vs 61\n",
      "-----\n",
      "Tackle [7, 8]\n",
      "Ember [3, 4]\n",
      "Flame Charge [5, 6]\n",
      "-----\n",
      "Megahorn [29, 34]\n",
      "Tackle [50, 58]\n"
     ]
    }
   ],
   "source": [
    "from ipynb.fs.defs.Functions import battle_list\n",
    "def calc_dmg(SingleBattle):\n",
    "    for p in SingleBattle.getUsers():\n",
    "        for t in SingleBattle.getTargets():\n",
    "            print('########')\n",
    "            print(p.getName(),'vs',t.getName())\n",
    "            print('Speed:',p.getStats()[5],'vs',t.getStats()[5])\n",
    "            print('-----')\n",
    "            battle_list(p.getName(),p.getLevel(),t.getName(),t.getLevel(),p.getMoves(),False,pokemon,moves)\n",
    "            print('-----')\n",
    "            battle_list(t.getName(),t.getLevel(),p.getName(),p.getLevel(),t.getMoves(),False,pokemon,moves)\n",
    "            \n",
    "calc_dmg(arena)"
   ]
  },
  {
   "cell_type": "code",
   "execution_count": null,
   "metadata": {},
   "outputs": [],
   "source": []
  }
 ],
 "metadata": {
  "kernelspec": {
   "display_name": "Python 3",
   "language": "python",
   "name": "python3"
  },
  "language_info": {
   "codemirror_mode": {
    "name": "ipython",
    "version": 3
   },
   "file_extension": ".py",
   "mimetype": "text/x-python",
   "name": "python",
   "nbconvert_exporter": "python",
   "pygments_lexer": "ipython3",
   "version": "3.8.3"
  }
 },
 "nbformat": 4,
 "nbformat_minor": 4
}
