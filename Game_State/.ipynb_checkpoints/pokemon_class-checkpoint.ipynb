{
 "cells": [
  {
   "cell_type": "code",
   "execution_count": 1,
   "metadata": {},
   "outputs": [],
   "source": [
    "import pandas as pd  #importing all the important packages\n",
    "import numpy as np"
   ]
  },
  {
   "cell_type": "code",
   "execution_count": 2,
   "metadata": {},
   "outputs": [],
   "source": [
    "class Pokemon(object): #inherit object class\n",
    "    def __init__(self, name, level, ivs, evs, nature, item, status, ability, df):\n",
    "        self.name = name\n",
    "        self.level = level\n",
    "        self.typ1 = df[df.index==name].TYPE1.values\n",
    "        self.typ2 = df[df.index==name].TYPE2.values\n",
    "        self.base = [int(df[df.index==name].HP.values), int(df[df.index==name].ATK.values), int(df[df.index==name].DEF.values), int(df[df.index==name].SPATK.values), int(df[df.index==name].SPDEF.values), int(df[df.index==name].SPD.values)]\n",
    "        self.total = sum(self.base)\n",
    "        if checkIVs(ivs):\n",
    "            self.IV = ivs\n",
    "        else:\n",
    "            raise Exception(\"Impossible IVs.\")\n",
    "        \n",
    "        if checkEVs(evs):\n",
    "            self.EV = evs\n",
    "        else:\n",
    "            raise Exception(\"Impossible EVs.\")\n",
    "        \n",
    "        if checkItem(item):\n",
    "            self.item = item\n",
    "        else:\n",
    "            raise Exception(\"Item doesn't exist.\")\n",
    "        \n",
    "        if checkNature(nature):\n",
    "            self.nature = nature\n",
    "        else:\n",
    "            raise Exception(\"Nature doesn't exist.\")\n",
    "        \n",
    "        if checkStatus(status):\n",
    "            self.status = status\n",
    "        else:\n",
    "            raise Exception(\"Status's are BRN, PSN, bad_PSN, PAR, FRZ, SLP or None. Provided status doesn't exist.\")\n",
    "            \n",
    "        if (ability == df[df.index==name].ABILITY1.values) or (ability == df[df.index==name].ABILITY2.values) or (ability == df[df.index==name].ABILITY3.values):\n",
    "            self.ability = ability\n",
    "        else:\n",
    "            raise Exception(\"Ability doesn't match pokemon\")\n",
    "        self.HP = self.getStats()[0]\n",
    "        self.fainted = False\n",
    "    \n",
    "    #defaults to no EVs, no IVs, no item, no status, neutral nature\n",
    "    @classmethod\n",
    "    def base(cls, name, level, ability, df):\n",
    "        return cls(name, level, [0,0,0,0,0,0], [0,0,0,0,0,0], 'Hardy', None, None, ability, df)\n",
    "    \n",
    "    #defaults with item\n",
    "    @classmethod\n",
    "    def item(cls, name, level, ability, df, item):\n",
    "        return cls(name, level, [0,0,0,0,0,0], [0,0,0,0,0,0], 'Hardy', item, None, ability, df)\n",
    "    \n",
    "    #defaults with nature\n",
    "    @classmethod\n",
    "    def nature(cls, name, level, ability, df, nature):\n",
    "        return cls(name, level, [0,0,0,0,0,0], [0,0,0,0,0,0], nature, None, None, ability, df)\n",
    "    \n",
    "    #defaults with ivs and nature\n",
    "    @classmethod\n",
    "    def ivs(cls, name, level, ability, df, nature, ivs):\n",
    "        return cls(name, level, ivs, [0,0,0,0,0,0], nature, None, None, ability, df)\n",
    "    \n",
    "    #defaults with evs, ivs and nature\n",
    "    @classmethod\n",
    "    def evs(cls, name, level, ability, df, nature, ivs, evs):\n",
    "        return cls(name, level, ivs, evs, nature, None, None, ability, df)\n",
    "    \n",
    "    # instance method\n",
    "    def show(self):\n",
    "        print(self.name,'Level:', self.level,'\\nBase:', self.base, 'Total:', self.total, '\\nIVs:', self.IV, '\\nEVs:', self.EV, '\\nNature:', self.nature, 'Ability:', self.ability, '\\nItem:', self.item,'Status:', self.status, '\\nCurrent HP:', self.HP)\n",
    "    \n",
    "    #get methods\n",
    "    def getLevel(self):\n",
    "        return self.level\n",
    "    def getTypes(self):\n",
    "        return [self.typ1, self.typ2]\n",
    "    def getBase(self):\n",
    "        return self.base\n",
    "    def getTotal(self):\n",
    "        return self.total\n",
    "    def getIV(self):\n",
    "        return self.IV\n",
    "    def getEV(self):\n",
    "        return self.EV\n",
    "    def getItem(self):\n",
    "        return self.item\n",
    "    def getNature(self):\n",
    "        return self.nature\n",
    "    def getStatus(self):\n",
    "        return self.status\n",
    "    def getAbility(self):\n",
    "        return self.ability\n",
    "    \n",
    "    #get stats\n",
    "    def getStats(self):\n",
    "        HP = ((2*self.base[0]+self.IV[0]+(self.EV[0]/4))*self.level)/100+self.level+10\n",
    "        ATK = ((2*self.base[1]+self.IV[1]+(self.EV[1]/4))*self.level)/100+5\n",
    "        DEF = ((2*self.base[2]+self.IV[2]+(self.EV[2]/4))*self.level)/100+5\n",
    "        SPATK = ((2*self.base[3]+self.IV[3]+(self.EV[3]/4))*self.level)/100+5\n",
    "        SPDEF = ((2*self.base[4]+self.IV[4]+(self.EV[4]/4))*self.level)/100+5\n",
    "        SPD = ((2*self.base[5]+self.IV[5]+(self.EV[5]/4))*self.level)/100+5\n",
    "        mat = natureMatrix(self.nature)\n",
    "        return [int(HP*mat[0]),int(ATK*mat[1]),int(DEF*mat[2]),int(SPATK*mat[3]),int(SPDEF*mat[4]),int(SPD*mat[5])]\n",
    "    \n",
    "    #set methods\n",
    "    def setLevel(self,level):\n",
    "        self.level = level\n",
    "    def setIV(self,ivs):\n",
    "        self.IV = ivs\n",
    "    def setEV(self,evs):\n",
    "        self.EV = evs\n",
    "    def setItem(self,item):\n",
    "        self.item = item\n",
    "    def setNature(self,nature):\n",
    "        self.nature = nature\n",
    "    def setStatus(self,status):\n",
    "        self.status = status\n",
    "    def setAbility(self,ability):\n",
    "        self.ability = ability\n",
    "    \n",
    "    #function for healing HP\n",
    "    def heal(self,heal):\n",
    "        self.HP = self.HP + heal\n",
    "        print(self.name + ' healed up to ' + str(heal) + ' points of damage!')\n",
    "        if self.HP > self.getStats()[0]:\n",
    "            self.HP = self.getStats()[0]\n",
    "            print(self.name + ' is back to full health!')\n",
    "        print('Current HP: ' + str(self.HP))\n",
    "        return self.HP\n",
    "    \n",
    "    def dmg(self,dmg):\n",
    "        self.HP = self.HP - dmg\n",
    "        print(self.name + ' took up to ' + str(dmg) + ' points of damage!')\n",
    "        if self.HP <= 0:\n",
    "            if dmg >= self.getStats()[0] and item == 'Focus Sash':\n",
    "                self.HP = 1\n",
    "                self.item = None\n",
    "                print(self.name + ' used its Focus Sash!')\n",
    "            else:\n",
    "                self.HP = 0\n",
    "                self.fainted = True\n",
    "                print(self.name + ' fainted!')\n",
    "        print('Current HP: ' + str(self.HP))\n",
    "        return self.HP\n",
    "    "
   ]
  },
  {
   "cell_type": "code",
   "execution_count": 3,
   "metadata": {},
   "outputs": [],
   "source": [
    "#check status is legitimate\n",
    "def checkStatus(status):\n",
    "    return (status == 'BRN') or (status == 'PSN') or (status == 'bad_PSN') or (status == 'PAR') or (status == 'FRZ') or (status == 'SLP') or (status == None)\n",
    "#check item is legitimate\n",
    "def checkItem(item):\n",
    "    return True\n",
    "#check ivs are legitimate\n",
    "def checkIVs(ivs):\n",
    "    i = 0\n",
    "    while i < 6:\n",
    "        if ivs[i] > 31 or ivs[i] < 0:\n",
    "            return False\n",
    "        i = i+1\n",
    "    return True\n",
    "#check evs are legitimate\n",
    "def checkEVs(evs):\n",
    "    i = 0\n",
    "    while i < 6:\n",
    "        if evs[i] > 252 or evs[i] < 0:\n",
    "            return False\n",
    "        i = i + 1\n",
    "    if sum(evs) > 510:\n",
    "        return False\n",
    "    return True\n",
    "#check nature is legitimate\n",
    "def checkNature(nature):\n",
    "    if nature == 'Lonely' or nature == 'Adamant' or nature == 'Brave' or nature == 'Naughty':\n",
    "        return True\n",
    "    if nature == 'Bold' or nature == 'Relaxed' or nature == 'Impish' or nature == 'Lax':\n",
    "        return True\n",
    "    if nature == 'Timid' or nature == 'Hasty' or nature == 'Jolly' or nature == 'Naive':\n",
    "        return True\n",
    "    if nature == 'Modest' or nature == 'Mild' or nature == 'Quiet' or nature == 'Rash':\n",
    "        return True\n",
    "    if nature == 'Calm' or nature == 'Gentle' or nature == 'Sassy' or nature == 'Careful':\n",
    "        return True\n",
    "    if nature == 'Hardy' or nature == 'Docile' or nature == 'Serious' or nature == 'Bashful' or nature == 'Quirky':\n",
    "        return True\n",
    "    return False\n",
    "\n",
    "# return a matrix of stats with nature applied\n",
    "def natureMatrix(nature):\n",
    "    if checkNature(nature):\n",
    "        mat = [1,1,1,1,1,1]\n",
    "        if nature == 'Lonely' or nature == 'Adamant' or nature == 'Brave' or nature == 'Naughty':\n",
    "            mat[1] = 1.1\n",
    "        if nature == 'Bold' or nature == 'Relaxed' or nature == 'Impish' or nature == 'Lax':\n",
    "            mat[2] = 1.1\n",
    "        if nature == 'Timid' or nature == 'Hasty' or nature == 'Jolly' or nature == 'Naive':\n",
    "            mat[3] = 1.1\n",
    "        if nature == 'Modest' or nature == 'Mild' or nature == 'Quiet' or nature == 'Rash':\n",
    "            mat[4] = 1.1\n",
    "        if nature == 'Calm' or nature == 'Gentle' or nature == 'Sassy' or nature == 'Careful':\n",
    "            mat[5] = 1.1\n",
    "        if nature == 'Bold' or nature == 'Timid' or nature == 'Modest' or nature == 'Calm':\n",
    "            mat[1] = 0.9\n",
    "        if nature == 'Lonely' or nature == 'Hasty' or nature == 'Mild' or nature == 'Gentle':\n",
    "            mat[2] = 0.9\n",
    "        if nature == 'Adamant' or nature == 'Impish' or nature == 'Jolly' or nature == 'Careful':\n",
    "            mat[3] = 0.9\n",
    "        if nature == 'Naughty' or nature == 'Lax' or nature == 'Naive' or nature == 'Rash':\n",
    "            mat[4] = 0.9\n",
    "        if nature == 'Brave' or nature == 'Relaxed' or nature == 'Quiet' or nature == 'Sassy':\n",
    "            mat[5] = 0.9\n",
    "    else:\n",
    "        raise Exception(\"Nature doesn't exist!\")\n",
    "    return mat"
   ]
  },
  {
   "cell_type": "markdown",
   "metadata": {},
   "source": [
    "# Create Example Pokemon Objects"
   ]
  },
  {
   "cell_type": "code",
   "execution_count": 4,
   "metadata": {},
   "outputs": [],
   "source": [
    "import pickle\n",
    "pickle_in = open('../pokemon.pickle','rb')\n",
    "df = pickle.load(pickle_in)\n",
    "#change into upper case\n",
    "df.columns = df.columns.str.upper().str.replace('_', '')\n",
    "#some values in TYPE2 are so they have to be filled or deleted\n",
    "df['TYPE2'] = df['TYPE2'].replace('None', np.nan)\n",
    "df['TYPE2'].fillna(df['TYPE1'], inplace=True)"
   ]
  },
  {
   "cell_type": "code",
   "execution_count": 8,
   "metadata": {},
   "outputs": [
    {
     "name": "stdout",
     "output_type": "stream",
     "text": [
      "Swampert Level: 40 \n",
      "Base: [100, 110, 90, 85, 90, 60] Total: 535 \n",
      "IVs: [0, 0, 0, 0, 0, 0] \n",
      "EVs: [0, 0, 0, 0, 0, 0] \n",
      "Nature: Hardy Ability: Torrent \n",
      "Item: None Status: None \n",
      "Current HP: 130\n",
      "[130, 93, 77, 73, 77, 53]\n",
      "Swampert took up to 20 points of damage!\n",
      "Current HP: 110\n",
      "Swampert healed up to 30 points of damage!\n",
      "Swampert is back to full health!\n",
      "Current HP: 130\n",
      "Swampert took up to 80 points of damage!\n",
      "Current HP: 50\n",
      "Swampert healed up to 25 points of damage!\n",
      "Current HP: 75\n"
     ]
    },
    {
     "data": {
      "text/plain": [
       "75"
      ]
     },
     "execution_count": 8,
     "metadata": {},
     "output_type": "execute_result"
    }
   ],
   "source": [
    "swampert = Pokemon.base(\"Swampert\",40,\"Torrent\",df)\n",
    "swampert.show()\n",
    "print(swampert.getStats())\n",
    "swampert.dmg(20)\n",
    "swampert.heal(30)\n",
    "swampert.dmg(80)\n",
    "swampert.heal(25)"
   ]
  },
  {
   "cell_type": "code",
   "execution_count": 9,
   "metadata": {},
   "outputs": [
    {
     "name": "stdout",
     "output_type": "stream",
     "text": [
      "Bulbasaur Level: 10 \n",
      "Base: [45, 49, 49, 65, 65, 45] Total: 318 \n",
      "IVs: [31, 31, 31, 31, 31, 31] \n",
      "EVs: [0, 0, 0, 0, 0, 0] \n",
      "Nature: Bold Ability: Overgrow \n",
      "Item: None Status: None \n",
      "Current HP: 32\n"
     ]
    },
    {
     "data": {
      "text/plain": [
       "[32, 16, 19, 21, 21, 17]"
      ]
     },
     "execution_count": 9,
     "metadata": {},
     "output_type": "execute_result"
    }
   ],
   "source": [
    "bulbasaur = Pokemon.ivs(\"Bulbasaur\",10,\"Overgrow\",df,'Bold',[31,31,31,31,31,31])\n",
    "bulbasaur.show()\n",
    "bulbasaur.getStats()"
   ]
  },
  {
   "cell_type": "code",
   "execution_count": 10,
   "metadata": {},
   "outputs": [
    {
     "name": "stdout",
     "output_type": "stream",
     "text": [
      "Pignite Level: 26 \n",
      "Base: [90, 93, 55, 70, 55, 55] Total: 418 \n",
      "IVs: [31, 31, 31, 31, 31, 31] \n",
      "EVs: [0, 252, 0, 0, 252, 4] \n",
      "Nature: Bold Ability: Blaze \n",
      "Item: None Status: None \n",
      "Current HP: 90\n"
     ]
    },
    {
     "data": {
      "text/plain": [
       "[90, 70, 45, 49, 58, 41]"
      ]
     },
     "execution_count": 10,
     "metadata": {},
     "output_type": "execute_result"
    }
   ],
   "source": [
    "pignite = Pokemon.evs(\"Pignite\",26,\"Blaze\",df,'Bold',[31,31,31,31,31,31],[0,252,0,0,252,4])\n",
    "pignite.show()\n",
    "pignite.getStats()"
   ]
  },
  {
   "cell_type": "code",
   "execution_count": null,
   "metadata": {},
   "outputs": [],
   "source": []
  }
 ],
 "metadata": {
  "kernelspec": {
   "display_name": "Python 3",
   "language": "python",
   "name": "python3"
  },
  "language_info": {
   "codemirror_mode": {
    "name": "ipython",
    "version": 3
   },
   "file_extension": ".py",
   "mimetype": "text/x-python",
   "name": "python",
   "nbconvert_exporter": "python",
   "pygments_lexer": "ipython3",
   "version": "3.8.3"
  }
 },
 "nbformat": 4,
 "nbformat_minor": 4
}
