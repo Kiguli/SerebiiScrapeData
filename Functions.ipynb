{
 "cells": [
  {
   "cell_type": "code",
   "execution_count": 1,
   "metadata": {},
   "outputs": [],
   "source": [
    "import pandas as pd  #importing all the important packages\n",
    "import numpy as np\n",
    "import matplotlib.pyplot as plt #currently not used\n",
    "import seaborn as sns #currently not used\n",
    "import pickle\n",
    "pickle_in = open('uptogen8pokemon.pickle','rb')\n",
    "df = pickle.load(pickle_in)\n",
    "df.columns = df.columns.str.upper().str.replace('_', '') \n",
    "df['TYPE2'] = df['TYPE2'].replace(to_replace=[None], value=np.nan, inplace=True)\n",
    "df['TYPE2'].fillna(df['TYPE1'], inplace=True)\n",
    "df = df.set_index('NAME')\n",
    "df=df.drop(['ID'],axis=1)"
   ]
  },
  {
   "cell_type": "markdown",
   "metadata": {},
   "source": [
    "# Damage multiplier for type matchups"
   ]
  },
  {
   "cell_type": "markdown",
   "metadata": {},
   "source": [
    "The function accepts two types, the first type is the attacking move type and the second is the defenders type (if the defender has multiple types this function should be run multiple times and multiplied together)."
   ]
  },
  {
   "cell_type": "code",
   "execution_count": 2,
   "metadata": {},
   "outputs": [],
   "source": [
    "def type_weakness(type1,type2):\n",
    "    if type1 == 'normal':\n",
    "        if type2 in ['rock' ,'steel']:\n",
    "            return 0.5\n",
    "        elif type2 == 'ghost':\n",
    "            return 0\n",
    "    if type1 == 'fire':\n",
    "        if type2 in ['water','fire','rock', 'dragon']:\n",
    "            return 0.5\n",
    "        elif type2 in ['grass', 'ice', 'bug','steel']:\n",
    "            return 2\n",
    "    if type1 == 'water':\n",
    "        if type2 in ['water', 'grass', 'dragon']:\n",
    "            return 0.5\n",
    "        if type2 in ['fire', 'ground', 'rock']:\n",
    "            return 2\n",
    "    if type1 == 'grass':\n",
    "        if type2 in ['fire', 'grass', 'poison' , 'dragon', 'steel', 'bug', 'flying']:\n",
    "            return 0.5\n",
    "        if type2 in ['water' , 'ground' ,'rock']:\n",
    "            return 2\n",
    "    if type1 == 'electric':\n",
    "        if type2 == 'ground':\n",
    "            return 0\n",
    "        if type2 in ['grass', 'electric', 'dragon']:\n",
    "            return 0.5\n",
    "        if type2 in ['water','flying']:\n",
    "            return 2\n",
    "    if type1 == 'ice':\n",
    "        if type2 in ['fire', 'water', 'ice', 'steel']:\n",
    "            return 0.5\n",
    "        if type2 in ['grass','flying','ground', 'dragon']:\n",
    "            return 2\n",
    "    if type1 == 'fighting':\n",
    "        if type2 == 'ghost':\n",
    "            return 0\n",
    "        if type2 in ['poison', 'flying', 'psychic', 'bug', 'fairy']:\n",
    "            return 0.5\n",
    "        if type2 in ['normal', 'ice','rock', 'dark', 'steel']:\n",
    "            return 2\n",
    "    if type1 == 'poison':\n",
    "        if type2 == 'steel':\n",
    "            return 0\n",
    "        if type2 in ['poison', 'ground', 'rock', 'ghost']:\n",
    "            return 0.5\n",
    "        if type2 in['fairy', 'grass']:\n",
    "            return 2\n",
    "    if type1 == 'ground':\n",
    "        if type2 == 'flying':\n",
    "            return 0\n",
    "        if type2 in['grass','bug']:\n",
    "            return 0.5\n",
    "        if type2 in ['fire', 'electric','rock', 'steel', 'poison']:\n",
    "            return 2\n",
    "    if type1 == 'flying':\n",
    "        if type2 in['electric','steel', 'rock']:\n",
    "            return 0.5\n",
    "        if type2 in ['grass', 'fighting', 'bug']:\n",
    "            return 2\n",
    "    if type1 == 'psychic':\n",
    "        if type2 == 'dark':\n",
    "            return 0\n",
    "        if type2 in['steel','psychic']:\n",
    "            return 0.5\n",
    "        if type2 in ['fighting', 'poison']:\n",
    "            return 2\n",
    "    if type1 == 'bug':\n",
    "        if type2 in ['fire', 'fighting', 'poison', 'flying', 'ghost' ,'steel', 'fairy']:\n",
    "            return 0.5\n",
    "        if type2 in ['dark','psychic','ghost']:\n",
    "            return 2\n",
    "    if type1 == 'rock':\n",
    "        if type2 in ['steel', 'fighting', 'ground']:\n",
    "            return 0.5\n",
    "        if type2 in ['bug' ,'flying','ice','fire']:\n",
    "            return 2\n",
    "    if type1 == 'ghost':\n",
    "        if type2 == 'normal':\n",
    "            return 0\n",
    "        if type2 == 'dark':\n",
    "            return 0.5\n",
    "        if type2 in ['psychic','ghost']:\n",
    "            return 2\n",
    "    if type1 == 'dragon':\n",
    "        if type2 == 'fairy':\n",
    "            return 0\n",
    "        if type2 == 'steel':\n",
    "            return 0.5\n",
    "        if type2 == 'dragon':\n",
    "            return 2\n",
    "    if type1 == 'dark':\n",
    "        if type2 in ['fighting','dark','fairy']:\n",
    "            return 0.5\n",
    "        if type2 in ['ghost','psychic']:\n",
    "            return 2\n",
    "    if type1 == 'steel':\n",
    "        if type2 in ['steel','fire','water','electric']:\n",
    "            return 0.5\n",
    "        if type2 in ['ice','rock','fairy']:\n",
    "            return 2\n",
    "    if type1 == 'fairy':\n",
    "        if type2 in ['fire', 'poison', 'steel']:\n",
    "            return 0.5\n",
    "        if type2 in ['dragon', 'fighting', 'dark']:\n",
    "            return 2\n",
    "    return 1"
   ]
  },
  {
   "cell_type": "markdown",
   "metadata": {},
   "source": [
    "# Damage Calculations"
   ]
  },
  {
   "cell_type": "code",
   "execution_count": 3,
   "metadata": {},
   "outputs": [],
   "source": [
    "def gen1_dmg(attack, defence, lvl, crit, power, movetype, physical,stab,deftype1,deftype2):\n",
    "    #initial dmg\n",
    "    dmg = 2*lvl\n",
    "    #if crits\n",
    "    if crit == True:\n",
    "        dmg = 2*dmg\n",
    "    #extras\n",
    "    dmg = dmg/5 + 2\n",
    "    #move power\n",
    "    dmg = dmg*power\n",
    "    #Physical or Special dmg\n",
    "    dmg = dmg*attack/defence\n",
    "    #extras\n",
    "    dmg =dmg/50+2\n",
    "    #STAB dmg\n",
    "    if stab == True:\n",
    "        dmg = dmg*1.5\n",
    "    #consider weaknesses\n",
    "    if deftype1 == deftype2:\n",
    "        dmg = dmg*type_weakness(movetype,deftype1)\n",
    "    else:\n",
    "        dmg = dmg*type_weakness(movetype,deftype1)*type_weakness(movetype,deftype2)\n",
    "    return [int(dmg*(217/255)),int(dmg)]"
   ]
  },
  {
   "cell_type": "code",
   "execution_count": 4,
   "metadata": {},
   "outputs": [],
   "source": [
    "def gen2_dmg(attack, defence, lvl, crit, power, movetype, physical,stab,deftype1,deftype2,item,badge,weather):\n",
    "    #initial dmg\n",
    "    dmg = 2*lvl/5+2\n",
    "    #move power\n",
    "    dmg = dmg*power\n",
    "    #Physical or Special dmg\n",
    "    dmg = dmg*attack/defence\n",
    "    #extras\n",
    "    dmg =dmg/50\n",
    "    #if crits\n",
    "    if crit == True:\n",
    "        dmg = 2*dmg\n",
    "    #item multiplier\n",
    "    dmg = dmg*item\n",
    "    #extras\n",
    "    dmg = dmg+2\n",
    "    #STAB dmg\n",
    "    if stab == True:\n",
    "        dmg = dmg*1.5\n",
    "    #badge\n",
    "    dmg = dmg*badge\n",
    "    #weather\n",
    "    if weather == True:\n",
    "        dmg = dmg*1.5\n",
    "    #consider weaknesses\n",
    "    if deftype1 == deftype2:\n",
    "        dmg = dmg*type_weakness(movetype,deftype1)\n",
    "    else:\n",
    "        dmg = dmg*type_weakness(movetype,deftype1)*type_weakness(movetype,deftype2)\n",
    "    \n",
    "    return [int(dmg*(217/255)),int(dmg)]"
   ]
  },
  {
   "cell_type": "code",
   "execution_count": 5,
   "metadata": {},
   "outputs": [],
   "source": [
    "def gen3_dmg(attack, defence, lvl, crit, power, movetype, physical,stab,deftype1,deftype2,item,weather,burn,screen,double,targetall,FF,WBR,HH,charge):\n",
    "    #initial dmg\n",
    "    dmg = 2*lvl/5+2\n",
    "    #move power\n",
    "    dmg = dmg*power\n",
    "    #Physical or Special dmg\n",
    "    dmg = dmg*attack/defence\n",
    "    #extras\n",
    "    dmg =dmg/50\n",
    "    #burned (and not guts)\n",
    "    if burn == True:\n",
    "        dmg = dmg/2\n",
    "    #screen\n",
    "    if screen == True:\n",
    "        if double == True:\n",
    "            dmg = dmg*2/3\n",
    "        else:\n",
    "            dmg = dmg/2\n",
    "    #in double battle dmg split between targets\n",
    "    if double == True and targetall == False:\n",
    "        dmg = dmg/2\n",
    "    #flash fire\n",
    "    if FF == True:\n",
    "        dmg = dmg*1.5\n",
    "    #weather\n",
    "    if weather == True:\n",
    "        dmg = dmg*1.5\n",
    "    #extras\n",
    "    dmg = dmg+2\n",
    "    #item multiplier (assuming this goes here)\n",
    "    dmg = dmg*item\n",
    "    #extras\n",
    "    dmg = dmg+2\n",
    "    #STAB dmg\n",
    "    if stab == True:\n",
    "        dmg = dmg*1.5\n",
    "    #consider weaknesses\n",
    "    if deftype1 == deftype2:\n",
    "        dmg = dmg*type_weakness(movetype,deftype1)\n",
    "    else:\n",
    "        dmg = dmg*type_weakness(movetype,deftype1)*type_weakness(movetype,deftype2)\n",
    "    #if crits\n",
    "    if crit == True:\n",
    "        dmg = 2*dmg\n",
    "    #weatherball revenge (only in clear weather)\n",
    "    if WBR == True:\n",
    "        dmg = dmg*2\n",
    "    #helping hand\n",
    "    if HH == True:\n",
    "        dmg = dmg*1.5\n",
    "    #electric type charge effect\n",
    "    if charge == True:\n",
    "        dmg =dmg*2\n",
    "    return [int(dmg*(85/100)),int(dmg)]"
   ]
  },
  {
   "cell_type": "code",
   "execution_count": 6,
   "metadata": {},
   "outputs": [],
   "source": [
    "def gen4_dmg(attack, defence, lvl, crit, power, movetype, physical,stab,deftype1,deftype2,item,weather,burn,screen,double,targetall,FF,WBR,HH,charge,other):\n",
    "    #initial dmg\n",
    "    dmg = 2*lvl/5+2\n",
    "    #move power\n",
    "    dmg = dmg*power\n",
    "    #Physical or Special dmg\n",
    "    dmg = dmg*attack/defence\n",
    "    #extras\n",
    "    dmg =dmg/50\n",
    "    #burned (and not guts)\n",
    "    if burn == True:\n",
    "        dmg = dmg/2\n",
    "    #screen\n",
    "    if screen == True:\n",
    "        if double == True:\n",
    "            dmg = dmg*2/3\n",
    "        else:\n",
    "            dmg = dmg/2\n",
    "    #in double battle dmg split between targets\n",
    "    if double == True and targetall == False:\n",
    "        dmg = dmg/2\n",
    "    #flash fire\n",
    "    if FF == True:\n",
    "        dmg = dmg*1.5\n",
    "    #weather\n",
    "    if weather == True:\n",
    "        dmg = dmg*1.5\n",
    "    #extras\n",
    "    dmg = dmg+2\n",
    "    #item multiplier (assuming this goes here)\n",
    "    dmg = dmg*item\n",
    "    #extras\n",
    "    dmg = dmg+2\n",
    "    #STAB dmg\n",
    "    if stab == True:\n",
    "        dmg = dmg*1.5\n",
    "    #consider weaknesses\n",
    "    if deftype1 == deftype2:\n",
    "        dmg = dmg*type_weakness(movetype,deftype1)\n",
    "    else:\n",
    "        dmg = dmg*type_weakness(movetype,deftype1)*type_weakness(movetype,deftype2)\n",
    "    #if crits\n",
    "    if crit == True:\n",
    "        dmg = 2*dmg\n",
    "    #weatherball revenge (only in clear weather)\n",
    "    if WBR == True:\n",
    "        dmg = dmg*2\n",
    "    #helping hand\n",
    "    if HH == True:\n",
    "        dmg = dmg*1.5\n",
    "    #electric type charge effect\n",
    "    if charge == True:\n",
    "        dmg =dmg*2\n",
    "    #any other abilities and effects\n",
    "    dmg = dmg*other\n",
    "    return [int(dmg*(85/100)),int(dmg)]"
   ]
  },
  {
   "cell_type": "code",
   "execution_count": 7,
   "metadata": {},
   "outputs": [],
   "source": [
    "def gen5_up_dmg(attack, defence, lvl, crit, power, movetype, physical,stab,deftype1,deftype2,item,weather,burn,screen,double,targetall,FF,WBR,HH,charge,other):\n",
    "    #initial dmg\n",
    "    dmg = 2*lvl/5+2\n",
    "    #move power\n",
    "    dmg = dmg*power\n",
    "    #Physical or Special dmg\n",
    "    dmg = dmg*attack/defence\n",
    "    #extras\n",
    "    dmg =dmg/50+2\n",
    "    #burned (and not guts)\n",
    "    if burn == True:\n",
    "        dmg = dmg/2\n",
    "    #screen\n",
    "    if screen == True:\n",
    "        if double == True:\n",
    "            dmg = dmg*2/3\n",
    "        else:\n",
    "            dmg = dmg/2\n",
    "    #in double battle dmg split between targets\n",
    "    if double == True and targetall == False:\n",
    "        dmg = dmg/2\n",
    "    #flash fire\n",
    "    if FF == True:\n",
    "        dmg = dmg*1.5\n",
    "    #weather\n",
    "    if weather == True:\n",
    "        dmg = dmg*1.5\n",
    "    #item multiplier (assuming this goes here)\n",
    "    dmg = dmg*item\n",
    "    #extras\n",
    "    dmg = dmg+2\n",
    "    #STAB dmg\n",
    "    if stab == True:\n",
    "        dmg = dmg*1.5\n",
    "    #consider weaknesses\n",
    "    if deftype1 == deftype2:\n",
    "        dmg = dmg*type_weakness(movetype,deftype1)\n",
    "    else:\n",
    "        dmg = dmg*type_weakness(movetype,deftype1)\n",
    "        dmg = dmg*type_weakness(movetype,deftype2)\n",
    "    #if crits\n",
    "    if crit == True:\n",
    "        dmg = 2*dmg\n",
    "    #weatherball revenge (only in clear weather)\n",
    "    if WBR == True:\n",
    "        dmg = dmg*2\n",
    "    #helping hand\n",
    "    if HH == True:\n",
    "        dmg = dmg*1.5\n",
    "    #electric type charge effect\n",
    "    if charge == True:\n",
    "        dmg =dmg*2\n",
    "    #any other effects; e.g. abilities\n",
    "    dmg = dmg*other\n",
    "    return [int(dmg*(85/100)),int(dmg)]"
   ]
  },
  {
   "cell_type": "markdown",
   "metadata": {},
   "source": [
    "# Base Stats at Level"
   ]
  },
  {
   "cell_type": "markdown",
   "metadata": {},
   "source": [
    "We use the following function to determine a pokemons base stats at a certain level, this does not include IVs, EVs or natures. However, in the function IVs and EVs can be seen. Natures would multiply one stat by 1.1 and another by 0.9."
   ]
  },
  {
   "cell_type": "code",
   "execution_count": 8,
   "metadata": {},
   "outputs": [],
   "source": [
    "def base_stats_at_lvl(Pokemon,level):\n",
    "    pkm = df[df.index == Pokemon]\n",
    "    IV = 0#[0,0,0,0,0,0]\n",
    "    EV = 0#[0,0,0,0,0,0]\n",
    "    HP = ((2*pkm['HP']+IV+(EV/4))*level)/100+level+10\n",
    "    ATK = ((2*pkm['ATK']+IV+(EV/4))*level)/100+5\n",
    "    DEF = ((2*pkm['DEF']+IV+(EV/4))*level)/100+5\n",
    "    SPATK = ((2*pkm['SPATK']+IV+(EV/4))*level)/100+5\n",
    "    SPDEF = ((2*pkm['SPDEF']+IV+(EV/4))*level)/100+5\n",
    "    SPD = ((2*pkm['SPD']+IV+(EV/4))*level)/100+5\n",
    "    return [int(HP),int(ATK),int(DEF),int(SPATK),int(SPDEF),int(SPD)]"
   ]
  },
  {
   "cell_type": "markdown",
   "metadata": {},
   "source": [
    "# A/D Ratio"
   ]
  },
  {
   "cell_type": "markdown",
   "metadata": {},
   "source": [
    "We create a function to calculate the A/D ratio between two pokemon. This is the difference in the attack stat with the defence stat or the special attack stat with the special defence stat. (There are some exceptions such as Psyshock and Psystrike)."
   ]
  },
  {
   "cell_type": "code",
   "execution_count": 9,
   "metadata": {},
   "outputs": [],
   "source": [
    "def phys_spec_ratio(atk_pkm,atk_lvl,def_pkm,def_lvl):\n",
    "    pkm1 = base_stats_at_lvl(atk_pkm,atk_lvl)\n",
    "    pkm2 = base_stats_at_lvl(def_pkm,def_lvl)\n",
    "    phys = pkm1[1]/pkm2[2]\n",
    "    spec = pkm1[3]/pkm2[4]\n",
    "    return[float(phys),float(spec)]"
   ]
  },
  {
   "cell_type": "markdown",
   "metadata": {},
   "source": [
    "# Function Testing"
   ]
  },
  {
   "cell_type": "code",
   "execution_count": 10,
   "metadata": {},
   "outputs": [
    {
     "data": {
      "text/plain": [
       "[26, 31]"
      ]
     },
     "execution_count": 10,
     "metadata": {},
     "output_type": "execute_result"
    }
   ],
   "source": [
    "gen1_dmg(attack=27,defence=16,lvl=15,crit=True,power=40,movetype='normal',physical=True,stab=True,deftype1='normal',deftype2='normal')\n"
   ]
  },
  {
   "cell_type": "code",
   "execution_count": 11,
   "metadata": {},
   "outputs": [
    {
     "data": {
      "text/plain": [
       "[100, 118]"
      ]
     },
     "execution_count": 11,
     "metadata": {},
     "output_type": "execute_result"
    }
   ],
   "source": [
    "gen5_up_dmg(attack=27,defence=16,lvl=15,crit=True,power=40,movetype='fairy',physical=True,stab=False,deftype1='dark',deftype2='dragon',item=1,weather=False,burn=False,screen=False,double=False,targetall=False,FF=False,WBR=False,HH=False,charge=False,other=1)"
   ]
  },
  {
   "cell_type": "code",
   "execution_count": 12,
   "metadata": {},
   "outputs": [
    {
     "data": {
      "text/plain": [
       "2"
      ]
     },
     "execution_count": 12,
     "metadata": {},
     "output_type": "execute_result"
    }
   ],
   "source": [
    "type_weakness('fairy','dark')"
   ]
  },
  {
   "cell_type": "code",
   "execution_count": 13,
   "metadata": {},
   "outputs": [
    {
     "data": {
      "text/plain": [
       "[38, 21, 16, 15, 16, 17]"
      ]
     },
     "execution_count": 13,
     "metadata": {},
     "output_type": "execute_result"
    }
   ],
   "source": [
    "base_stats_at_lvl('Patrat',15)"
   ]
  },
  {
   "cell_type": "code",
   "execution_count": 14,
   "metadata": {},
   "outputs": [
    {
     "ename": "TypeError",
     "evalue": "cannot convert the series to <class 'int'>",
     "output_type": "error",
     "traceback": [
      "\u001b[0;31m---------------------------------------------------------------------------\u001b[0m",
      "\u001b[0;31mTypeError\u001b[0m                                 Traceback (most recent call last)",
      "\u001b[0;32m<ipython-input-14-5507cc8048b1>\u001b[0m in \u001b[0;36m<module>\u001b[0;34m\u001b[0m\n\u001b[0;32m----> 1\u001b[0;31m \u001b[0mphys_spec_ratio\u001b[0m\u001b[0;34m(\u001b[0m\u001b[0;34m'Patrat'\u001b[0m\u001b[0;34m,\u001b[0m\u001b[0;36m15\u001b[0m\u001b[0;34m,\u001b[0m\u001b[0;34m'Snubull'\u001b[0m\u001b[0;34m,\u001b[0m\u001b[0;36m15\u001b[0m\u001b[0;34m)\u001b[0m\u001b[0;34m\u001b[0m\u001b[0;34m\u001b[0m\u001b[0m\n\u001b[0m",
      "\u001b[0;32m<ipython-input-9-34f8a49d1268>\u001b[0m in \u001b[0;36mphys_spec_ratio\u001b[0;34m(atk_pkm, atk_lvl, def_pkm, def_lvl)\u001b[0m\n\u001b[1;32m      1\u001b[0m \u001b[0;32mdef\u001b[0m \u001b[0mphys_spec_ratio\u001b[0m\u001b[0;34m(\u001b[0m\u001b[0matk_pkm\u001b[0m\u001b[0;34m,\u001b[0m\u001b[0matk_lvl\u001b[0m\u001b[0;34m,\u001b[0m\u001b[0mdef_pkm\u001b[0m\u001b[0;34m,\u001b[0m\u001b[0mdef_lvl\u001b[0m\u001b[0;34m)\u001b[0m\u001b[0;34m:\u001b[0m\u001b[0;34m\u001b[0m\u001b[0;34m\u001b[0m\u001b[0m\n\u001b[1;32m      2\u001b[0m     \u001b[0mpkm1\u001b[0m \u001b[0;34m=\u001b[0m \u001b[0mbase_stats_at_lvl\u001b[0m\u001b[0;34m(\u001b[0m\u001b[0matk_pkm\u001b[0m\u001b[0;34m,\u001b[0m\u001b[0matk_lvl\u001b[0m\u001b[0;34m)\u001b[0m\u001b[0;34m\u001b[0m\u001b[0;34m\u001b[0m\u001b[0m\n\u001b[0;32m----> 3\u001b[0;31m     \u001b[0mpkm2\u001b[0m \u001b[0;34m=\u001b[0m \u001b[0mbase_stats_at_lvl\u001b[0m\u001b[0;34m(\u001b[0m\u001b[0mdef_pkm\u001b[0m\u001b[0;34m,\u001b[0m\u001b[0mdef_lvl\u001b[0m\u001b[0;34m)\u001b[0m\u001b[0;34m\u001b[0m\u001b[0;34m\u001b[0m\u001b[0m\n\u001b[0m\u001b[1;32m      4\u001b[0m     \u001b[0mphys\u001b[0m \u001b[0;34m=\u001b[0m \u001b[0mpkm1\u001b[0m\u001b[0;34m[\u001b[0m\u001b[0;36m1\u001b[0m\u001b[0;34m]\u001b[0m\u001b[0;34m/\u001b[0m\u001b[0mpkm2\u001b[0m\u001b[0;34m[\u001b[0m\u001b[0;36m2\u001b[0m\u001b[0;34m]\u001b[0m\u001b[0;34m\u001b[0m\u001b[0;34m\u001b[0m\u001b[0m\n\u001b[1;32m      5\u001b[0m     \u001b[0mspec\u001b[0m \u001b[0;34m=\u001b[0m \u001b[0mpkm1\u001b[0m\u001b[0;34m[\u001b[0m\u001b[0;36m3\u001b[0m\u001b[0;34m]\u001b[0m\u001b[0;34m/\u001b[0m\u001b[0mpkm2\u001b[0m\u001b[0;34m[\u001b[0m\u001b[0;36m4\u001b[0m\u001b[0;34m]\u001b[0m\u001b[0;34m\u001b[0m\u001b[0;34m\u001b[0m\u001b[0m\n",
      "\u001b[0;32m<ipython-input-8-85ad7ca7162d>\u001b[0m in \u001b[0;36mbase_stats_at_lvl\u001b[0;34m(Pokemon, level)\u001b[0m\n\u001b[1;32m      9\u001b[0m     \u001b[0mSPDEF\u001b[0m \u001b[0;34m=\u001b[0m \u001b[0;34m(\u001b[0m\u001b[0;34m(\u001b[0m\u001b[0;36m2\u001b[0m\u001b[0;34m*\u001b[0m\u001b[0mpkm\u001b[0m\u001b[0;34m[\u001b[0m\u001b[0;34m'SPDEF'\u001b[0m\u001b[0;34m]\u001b[0m\u001b[0;34m+\u001b[0m\u001b[0mIV\u001b[0m\u001b[0;34m+\u001b[0m\u001b[0;34m(\u001b[0m\u001b[0mEV\u001b[0m\u001b[0;34m/\u001b[0m\u001b[0;36m4\u001b[0m\u001b[0;34m)\u001b[0m\u001b[0;34m)\u001b[0m\u001b[0;34m*\u001b[0m\u001b[0mlevel\u001b[0m\u001b[0;34m)\u001b[0m\u001b[0;34m/\u001b[0m\u001b[0;36m100\u001b[0m\u001b[0;34m+\u001b[0m\u001b[0;36m5\u001b[0m\u001b[0;34m\u001b[0m\u001b[0;34m\u001b[0m\u001b[0m\n\u001b[1;32m     10\u001b[0m     \u001b[0mSPD\u001b[0m \u001b[0;34m=\u001b[0m \u001b[0;34m(\u001b[0m\u001b[0;34m(\u001b[0m\u001b[0;36m2\u001b[0m\u001b[0;34m*\u001b[0m\u001b[0mpkm\u001b[0m\u001b[0;34m[\u001b[0m\u001b[0;34m'SPD'\u001b[0m\u001b[0;34m]\u001b[0m\u001b[0;34m+\u001b[0m\u001b[0mIV\u001b[0m\u001b[0;34m+\u001b[0m\u001b[0;34m(\u001b[0m\u001b[0mEV\u001b[0m\u001b[0;34m/\u001b[0m\u001b[0;36m4\u001b[0m\u001b[0;34m)\u001b[0m\u001b[0;34m)\u001b[0m\u001b[0;34m*\u001b[0m\u001b[0mlevel\u001b[0m\u001b[0;34m)\u001b[0m\u001b[0;34m/\u001b[0m\u001b[0;36m100\u001b[0m\u001b[0;34m+\u001b[0m\u001b[0;36m5\u001b[0m\u001b[0;34m\u001b[0m\u001b[0;34m\u001b[0m\u001b[0m\n\u001b[0;32m---> 11\u001b[0;31m     \u001b[0;32mreturn\u001b[0m \u001b[0;34m[\u001b[0m\u001b[0mint\u001b[0m\u001b[0;34m(\u001b[0m\u001b[0mHP\u001b[0m\u001b[0;34m)\u001b[0m\u001b[0;34m,\u001b[0m\u001b[0mint\u001b[0m\u001b[0;34m(\u001b[0m\u001b[0mATK\u001b[0m\u001b[0;34m)\u001b[0m\u001b[0;34m,\u001b[0m\u001b[0mint\u001b[0m\u001b[0;34m(\u001b[0m\u001b[0mDEF\u001b[0m\u001b[0;34m)\u001b[0m\u001b[0;34m,\u001b[0m\u001b[0mint\u001b[0m\u001b[0;34m(\u001b[0m\u001b[0mSPATK\u001b[0m\u001b[0;34m)\u001b[0m\u001b[0;34m,\u001b[0m\u001b[0mint\u001b[0m\u001b[0;34m(\u001b[0m\u001b[0mSPDEF\u001b[0m\u001b[0;34m)\u001b[0m\u001b[0;34m,\u001b[0m\u001b[0mint\u001b[0m\u001b[0;34m(\u001b[0m\u001b[0mSPD\u001b[0m\u001b[0;34m)\u001b[0m\u001b[0;34m]\u001b[0m\u001b[0;34m\u001b[0m\u001b[0;34m\u001b[0m\u001b[0m\n\u001b[0m",
      "\u001b[0;32m~/opt/anaconda3/lib/python3.8/site-packages/pandas/core/series.py\u001b[0m in \u001b[0;36mwrapper\u001b[0;34m(self)\u001b[0m\n\u001b[1;32m    110\u001b[0m         \u001b[0;32mif\u001b[0m \u001b[0mlen\u001b[0m\u001b[0;34m(\u001b[0m\u001b[0mself\u001b[0m\u001b[0;34m)\u001b[0m \u001b[0;34m==\u001b[0m \u001b[0;36m1\u001b[0m\u001b[0;34m:\u001b[0m\u001b[0;34m\u001b[0m\u001b[0;34m\u001b[0m\u001b[0m\n\u001b[1;32m    111\u001b[0m             \u001b[0;32mreturn\u001b[0m \u001b[0mconverter\u001b[0m\u001b[0;34m(\u001b[0m\u001b[0mself\u001b[0m\u001b[0;34m.\u001b[0m\u001b[0miloc\u001b[0m\u001b[0;34m[\u001b[0m\u001b[0;36m0\u001b[0m\u001b[0;34m]\u001b[0m\u001b[0;34m)\u001b[0m\u001b[0;34m\u001b[0m\u001b[0;34m\u001b[0m\u001b[0m\n\u001b[0;32m--> 112\u001b[0;31m         \u001b[0;32mraise\u001b[0m \u001b[0mTypeError\u001b[0m\u001b[0;34m(\u001b[0m\u001b[0;34mf\"cannot convert the series to {converter}\"\u001b[0m\u001b[0;34m)\u001b[0m\u001b[0;34m\u001b[0m\u001b[0;34m\u001b[0m\u001b[0m\n\u001b[0m\u001b[1;32m    113\u001b[0m \u001b[0;34m\u001b[0m\u001b[0m\n\u001b[1;32m    114\u001b[0m     \u001b[0mwrapper\u001b[0m\u001b[0;34m.\u001b[0m\u001b[0m__name__\u001b[0m \u001b[0;34m=\u001b[0m \u001b[0;34mf\"__{converter.__name__}__\"\u001b[0m\u001b[0;34m\u001b[0m\u001b[0;34m\u001b[0m\u001b[0m\n",
      "\u001b[0;31mTypeError\u001b[0m: cannot convert the series to <class 'int'>"
     ]
    }
   ],
   "source": [
    "phys_spec_ratio('Patrat',15,'Snubull',15)"
   ]
  }
 ],
 "metadata": {
  "kernelspec": {
   "display_name": "Python 3",
   "language": "python",
   "name": "python3"
  },
  "language_info": {
   "codemirror_mode": {
    "name": "ipython",
    "version": 3
   },
   "file_extension": ".py",
   "mimetype": "text/x-python",
   "name": "python",
   "nbconvert_exporter": "python",
   "pygments_lexer": "ipython3",
   "version": "3.8.3"
  }
 },
 "nbformat": 4,
 "nbformat_minor": 4
}
